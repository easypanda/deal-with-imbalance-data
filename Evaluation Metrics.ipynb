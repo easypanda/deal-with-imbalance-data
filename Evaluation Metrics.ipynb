{
 "cells": [
  {
   "cell_type": "code",
   "execution_count": 24,
   "id": "statewide-lloyd",
   "metadata": {
    "ExecuteTime": {
     "end_time": "2021-02-19T21:03:10.466907Z",
     "start_time": "2021-02-19T21:03:10.463737Z"
    }
   },
   "outputs": [],
   "source": [
    "# Import libraries\n",
    "\n",
    "import pandas as pd\n",
    "import numpy as np\n",
    "\n",
    "from sklearn.ensemble import RandomForestClassifier\n",
    "from sklearn.linear_model import SGDClassifier,LogisticRegression\n",
    "from sklearn.model_selection import train_test_split\n",
    "\n",
    "import matplotlib.pyplot as plt\n",
    "import seaborn as sns\n",
    "sns.set_style(\"whitegrid\")"
   ]
  },
  {
   "cell_type": "code",
   "execution_count": 2,
   "id": "surprising-proxy",
   "metadata": {
    "ExecuteTime": {
     "end_time": "2021-02-19T20:55:53.430170Z",
     "start_time": "2021-02-19T20:55:53.427959Z"
    }
   },
   "outputs": [],
   "source": [
    "np.random.seed(24)"
   ]
  },
  {
   "cell_type": "code",
   "execution_count": 3,
   "id": "conventional-wrestling",
   "metadata": {
    "ExecuteTime": {
     "end_time": "2021-02-19T20:55:53.434688Z",
     "start_time": "2021-02-19T20:55:53.432078Z"
    }
   },
   "outputs": [],
   "source": [
    "def load_data():\n",
    "    \n",
    "    df = pd.read_csv(\"./kdd2004.csv\")\n",
    "    df[\"target\"] = df[\"target\"].map({-1:0,1:1})\n",
    "    \n",
    "    return df"
   ]
  },
  {
   "cell_type": "markdown",
   "id": "initial-platform",
   "metadata": {
    "heading_collapsed": true
   },
   "source": [
    "# Accuracy"
   ]
  },
  {
   "cell_type": "markdown",
   "id": "fundamental-tsunami",
   "metadata": {
    "hidden": true
   },
   "source": [
    "Accuracy = Total number of correct predictions / total number of predictions -> Percentage of correct predictions.\n",
    "\n",
    "For binary classification, this translate to Accuracy = TP + TN = TP+TN+FP+FN.\n",
    "\n",
    "This is not an approriate metric for imbalance dataset due to the fact that it doesn't take into consideration the number of correctly classified examples of different classes (the minority class has very low impact on the overall accuracy).\n",
    "\n",
    "Baseline detection = Predict always the majority class."
   ]
  },
  {
   "cell_type": "code",
   "execution_count": 4,
   "id": "laden-interaction",
   "metadata": {
    "ExecuteTime": {
     "end_time": "2021-02-19T20:55:53.438249Z",
     "start_time": "2021-02-19T20:55:53.436393Z"
    },
    "hidden": true
   },
   "outputs": [],
   "source": [
    "from sklearn.metrics import accuracy_score"
   ]
  },
  {
   "cell_type": "code",
   "execution_count": 5,
   "id": "current-banks",
   "metadata": {
    "ExecuteTime": {
     "end_time": "2021-02-19T20:55:54.490518Z",
     "start_time": "2021-02-19T20:55:53.439738Z"
    },
    "hidden": true
   },
   "outputs": [],
   "source": [
    "df = load_data()"
   ]
  },
  {
   "cell_type": "code",
   "execution_count": 6,
   "id": "mysterious-circumstances",
   "metadata": {
    "ExecuteTime": {
     "end_time": "2021-02-19T20:55:54.520854Z",
     "start_time": "2021-02-19T20:55:54.492369Z"
    },
    "hidden": true
   },
   "outputs": [
    {
     "data": {
      "text/html": [
       "<div>\n",
       "<style scoped>\n",
       "    .dataframe tbody tr th:only-of-type {\n",
       "        vertical-align: middle;\n",
       "    }\n",
       "\n",
       "    .dataframe tbody tr th {\n",
       "        vertical-align: top;\n",
       "    }\n",
       "\n",
       "    .dataframe thead th {\n",
       "        text-align: right;\n",
       "    }\n",
       "</style>\n",
       "<table border=\"1\" class=\"dataframe\">\n",
       "  <thead>\n",
       "    <tr style=\"text-align: right;\">\n",
       "      <th></th>\n",
       "      <th>0</th>\n",
       "      <th>1</th>\n",
       "      <th>2</th>\n",
       "      <th>3</th>\n",
       "      <th>4</th>\n",
       "      <th>5</th>\n",
       "      <th>6</th>\n",
       "      <th>7</th>\n",
       "      <th>8</th>\n",
       "      <th>9</th>\n",
       "      <th>...</th>\n",
       "      <th>65</th>\n",
       "      <th>66</th>\n",
       "      <th>67</th>\n",
       "      <th>68</th>\n",
       "      <th>69</th>\n",
       "      <th>70</th>\n",
       "      <th>71</th>\n",
       "      <th>72</th>\n",
       "      <th>73</th>\n",
       "      <th>target</th>\n",
       "    </tr>\n",
       "  </thead>\n",
       "  <tbody>\n",
       "    <tr>\n",
       "      <th>0</th>\n",
       "      <td>52.0</td>\n",
       "      <td>32.69</td>\n",
       "      <td>0.30</td>\n",
       "      <td>2.5</td>\n",
       "      <td>20.0</td>\n",
       "      <td>1256.8</td>\n",
       "      <td>-0.89</td>\n",
       "      <td>0.33</td>\n",
       "      <td>11.0</td>\n",
       "      <td>-55.0</td>\n",
       "      <td>...</td>\n",
       "      <td>1595.1</td>\n",
       "      <td>-1.64</td>\n",
       "      <td>2.83</td>\n",
       "      <td>-2.0</td>\n",
       "      <td>-50.0</td>\n",
       "      <td>445.2</td>\n",
       "      <td>-0.35</td>\n",
       "      <td>0.26</td>\n",
       "      <td>0.76</td>\n",
       "      <td>0</td>\n",
       "    </tr>\n",
       "    <tr>\n",
       "      <th>1</th>\n",
       "      <td>58.0</td>\n",
       "      <td>33.33</td>\n",
       "      <td>0.00</td>\n",
       "      <td>16.5</td>\n",
       "      <td>9.5</td>\n",
       "      <td>608.1</td>\n",
       "      <td>0.50</td>\n",
       "      <td>0.07</td>\n",
       "      <td>20.5</td>\n",
       "      <td>-52.5</td>\n",
       "      <td>...</td>\n",
       "      <td>762.9</td>\n",
       "      <td>0.29</td>\n",
       "      <td>0.82</td>\n",
       "      <td>-3.0</td>\n",
       "      <td>-35.0</td>\n",
       "      <td>140.3</td>\n",
       "      <td>1.16</td>\n",
       "      <td>0.39</td>\n",
       "      <td>0.73</td>\n",
       "      <td>0</td>\n",
       "    </tr>\n",
       "    <tr>\n",
       "      <th>2</th>\n",
       "      <td>77.0</td>\n",
       "      <td>27.27</td>\n",
       "      <td>-0.91</td>\n",
       "      <td>6.0</td>\n",
       "      <td>58.5</td>\n",
       "      <td>1623.6</td>\n",
       "      <td>-1.40</td>\n",
       "      <td>0.02</td>\n",
       "      <td>-6.5</td>\n",
       "      <td>-48.0</td>\n",
       "      <td>...</td>\n",
       "      <td>1491.8</td>\n",
       "      <td>0.32</td>\n",
       "      <td>-1.29</td>\n",
       "      <td>0.0</td>\n",
       "      <td>-34.0</td>\n",
       "      <td>658.2</td>\n",
       "      <td>-0.76</td>\n",
       "      <td>0.26</td>\n",
       "      <td>0.24</td>\n",
       "      <td>0</td>\n",
       "    </tr>\n",
       "    <tr>\n",
       "      <th>3</th>\n",
       "      <td>41.0</td>\n",
       "      <td>27.91</td>\n",
       "      <td>-0.35</td>\n",
       "      <td>3.0</td>\n",
       "      <td>46.0</td>\n",
       "      <td>1921.6</td>\n",
       "      <td>-1.36</td>\n",
       "      <td>-0.47</td>\n",
       "      <td>-32.0</td>\n",
       "      <td>-51.5</td>\n",
       "      <td>...</td>\n",
       "      <td>2047.7</td>\n",
       "      <td>-0.98</td>\n",
       "      <td>1.53</td>\n",
       "      <td>0.0</td>\n",
       "      <td>-49.0</td>\n",
       "      <td>554.2</td>\n",
       "      <td>-0.83</td>\n",
       "      <td>0.39</td>\n",
       "      <td>0.73</td>\n",
       "      <td>0</td>\n",
       "    </tr>\n",
       "    <tr>\n",
       "      <th>4</th>\n",
       "      <td>50.0</td>\n",
       "      <td>28.00</td>\n",
       "      <td>-1.32</td>\n",
       "      <td>-9.0</td>\n",
       "      <td>12.0</td>\n",
       "      <td>464.8</td>\n",
       "      <td>0.88</td>\n",
       "      <td>0.19</td>\n",
       "      <td>8.0</td>\n",
       "      <td>-51.5</td>\n",
       "      <td>...</td>\n",
       "      <td>479.5</td>\n",
       "      <td>0.68</td>\n",
       "      <td>-0.59</td>\n",
       "      <td>2.0</td>\n",
       "      <td>-36.0</td>\n",
       "      <td>-6.9</td>\n",
       "      <td>2.02</td>\n",
       "      <td>0.14</td>\n",
       "      <td>-0.23</td>\n",
       "      <td>0</td>\n",
       "    </tr>\n",
       "  </tbody>\n",
       "</table>\n",
       "<p>5 rows × 75 columns</p>\n",
       "</div>"
      ],
      "text/plain": [
       "      0      1     2     3     4       5     6     7     8     9  ...      65  \\\n",
       "0  52.0  32.69  0.30   2.5  20.0  1256.8 -0.89  0.33  11.0 -55.0  ...  1595.1   \n",
       "1  58.0  33.33  0.00  16.5   9.5   608.1  0.50  0.07  20.5 -52.5  ...   762.9   \n",
       "2  77.0  27.27 -0.91   6.0  58.5  1623.6 -1.40  0.02  -6.5 -48.0  ...  1491.8   \n",
       "3  41.0  27.91 -0.35   3.0  46.0  1921.6 -1.36 -0.47 -32.0 -51.5  ...  2047.7   \n",
       "4  50.0  28.00 -1.32  -9.0  12.0   464.8  0.88  0.19   8.0 -51.5  ...   479.5   \n",
       "\n",
       "     66    67   68    69     70    71    72    73  target  \n",
       "0 -1.64  2.83 -2.0 -50.0  445.2 -0.35  0.26  0.76       0  \n",
       "1  0.29  0.82 -3.0 -35.0  140.3  1.16  0.39  0.73       0  \n",
       "2  0.32 -1.29  0.0 -34.0  658.2 -0.76  0.26  0.24       0  \n",
       "3 -0.98  1.53  0.0 -49.0  554.2 -0.83  0.39  0.73       0  \n",
       "4  0.68 -0.59  2.0 -36.0   -6.9  2.02  0.14 -0.23       0  \n",
       "\n",
       "[5 rows x 75 columns]"
      ]
     },
     "execution_count": 6,
     "metadata": {},
     "output_type": "execute_result"
    }
   ],
   "source": [
    "df.head()"
   ]
  },
  {
   "cell_type": "code",
   "execution_count": 7,
   "id": "likely-atmosphere",
   "metadata": {
    "ExecuteTime": {
     "end_time": "2021-02-19T20:55:54.525962Z",
     "start_time": "2021-02-19T20:55:54.522775Z"
    },
    "hidden": true
   },
   "outputs": [
    {
     "data": {
      "text/plain": [
       "(145751, 75)"
      ]
     },
     "execution_count": 7,
     "metadata": {},
     "output_type": "execute_result"
    }
   ],
   "source": [
    "df.shape"
   ]
  },
  {
   "cell_type": "code",
   "execution_count": 8,
   "id": "moving-visiting",
   "metadata": {
    "ExecuteTime": {
     "end_time": "2021-02-19T20:55:54.669033Z",
     "start_time": "2021-02-19T20:55:54.529257Z"
    },
    "hidden": true
   },
   "outputs": [
    {
     "data": {
      "image/png": "[encoded data removed]",
      "text/plain": [
       "<Figure size 432x288 with 1 Axes>"
      ]
     },
     "metadata": {},
     "output_type": "display_data"
    }
   ],
   "source": [
    "sns.countplot(x=\"target\", data=df)\n",
    "plt.show()"
   ]
  },
  {
   "cell_type": "code",
   "execution_count": 9,
   "id": "informed-saskatchewan",
   "metadata": {
    "ExecuteTime": {
     "end_time": "2021-02-19T20:55:54.679641Z",
     "start_time": "2021-02-19T20:55:54.672362Z"
    },
    "hidden": true
   },
   "outputs": [
    {
     "data": {
      "text/plain": [
       "0    99.110812\n",
       "1     0.889188\n",
       "Name: target, dtype: float64"
      ]
     },
     "execution_count": 9,
     "metadata": {},
     "output_type": "execute_result"
    }
   ],
   "source": [
    "df[\"target\"].value_counts(normalize=True) * 100"
   ]
  },
  {
   "cell_type": "markdown",
   "id": "opening-appliance",
   "metadata": {
    "hidden": true
   },
   "source": [
    "**Baseline model** : 99.11%"
   ]
  },
  {
   "cell_type": "code",
   "execution_count": 10,
   "id": "dominant-plasma",
   "metadata": {
    "ExecuteTime": {
     "end_time": "2021-02-19T20:55:54.842935Z",
     "start_time": "2021-02-19T20:55:54.681958Z"
    },
    "hidden": true
   },
   "outputs": [],
   "source": [
    "X_train, X_test, y_train, y_test = train_test_split(df.drop(\n",
    "    labels=[\"target\"], axis=1), df[\"target\"], test_size=0.33, random_state=24)"
   ]
  },
  {
   "cell_type": "code",
   "execution_count": 11,
   "id": "distinguished-novelty",
   "metadata": {
    "ExecuteTime": {
     "end_time": "2021-02-19T20:55:54.848149Z",
     "start_time": "2021-02-19T20:55:54.844769Z"
    },
    "hidden": true
   },
   "outputs": [
    {
     "data": {
      "text/plain": [
       "((97653, 74), (48098, 74))"
      ]
     },
     "execution_count": 11,
     "metadata": {},
     "output_type": "execute_result"
    }
   ],
   "source": [
    "X_train.shape,X_test.shape"
   ]
  },
  {
   "cell_type": "code",
   "execution_count": 12,
   "id": "southwest-hungarian",
   "metadata": {
    "ExecuteTime": {
     "end_time": "2021-02-19T20:55:54.852707Z",
     "start_time": "2021-02-19T20:55:54.849722Z"
    },
    "hidden": true
   },
   "outputs": [],
   "source": [
    "y_train_base = pd.Series(np.zeros(len(y_train)))\n",
    "y_test_base = pd.Series(np.zeros(len(y_test)))"
   ]
  },
  {
   "cell_type": "markdown",
   "id": "dried-cemetery",
   "metadata": {
    "hidden": true
   },
   "source": [
    "## Training some ML Models"
   ]
  },
  {
   "cell_type": "code",
   "execution_count": 13,
   "id": "sunset-inventory",
   "metadata": {
    "ExecuteTime": {
     "end_time": "2021-02-19T20:55:55.990598Z",
     "start_time": "2021-02-19T20:55:54.854286Z"
    },
    "hidden": true
   },
   "outputs": [],
   "source": [
    "rf = RandomForestClassifier(n_jobs=-1, random_state=24, n_estimators=10)\n",
    "\n",
    "rf.fit(X_train, y_train)\n",
    "\n",
    "y_train_rf = rf.predict_proba(X_train)[:, 1]\n",
    "y_test_rf = rf.predict_proba(X_test)[:, 1]"
   ]
  },
  {
   "cell_type": "code",
   "execution_count": 79,
   "id": "infinite-nowhere",
   "metadata": {
    "ExecuteTime": {
     "end_time": "2021-02-19T21:47:27.563082Z",
     "start_time": "2021-02-19T21:47:25.227614Z"
    },
    "hidden": true
   },
   "outputs": [],
   "source": [
    "sgd = SGDClassifier(random_state=24, max_iter=1000, loss=\"log\")\n",
    "\n",
    "sgd.fit(X_train, y_train)\n",
    "\n",
    "y_train_sgd = sgd.predict_proba(X_train)[:, 1]\n",
    "y_test_sgd = sgd.predict_proba(X_test)[:, 1]"
   ]
  },
  {
   "cell_type": "code",
   "execution_count": 27,
   "id": "italian-coach",
   "metadata": {
    "ExecuteTime": {
     "end_time": "2021-02-19T21:04:26.235976Z",
     "start_time": "2021-02-19T21:04:26.175017Z"
    },
    "hidden": true
   },
   "outputs": [
    {
     "name": "stdout",
     "output_type": "stream",
     "text": [
      "Accuracy baseline: 0.9912886190694\n",
      "Accuracy SGDClassifier: 0.9957586594037174\n",
      "Accuracy RandomForest: 0.9972971849141337\n"
     ]
    }
   ],
   "source": [
    "print(f\"Accuracy baseline: {accuracy_score(y_test,y_test_base)}\")\n",
    "print(f\"Accuracy SGDClassifier: {accuracy_score(y_test,sgd.predict(X_test))}\")\n",
    "print(f\"Accuracy RandomForest: {accuracy_score(y_test,rf.predict(X_test))}\")"
   ]
  },
  {
   "cell_type": "markdown",
   "id": "environmental-nudist",
   "metadata": {
    "hidden": true
   },
   "source": [
    "Super high accuracy but..."
   ]
  },
  {
   "cell_type": "code",
   "execution_count": 16,
   "id": "black-forth",
   "metadata": {
    "ExecuteTime": {
     "end_time": "2021-02-19T20:57:02.770185Z",
     "start_time": "2021-02-19T20:57:02.767602Z"
    },
    "hidden": true
   },
   "outputs": [],
   "source": [
    "def minority_perc(y_pred,y_true):\n",
    "    return np.mean(np.where((y_pred == 1) & (y_true ==1),1,0)) * 100"
   ]
  },
  {
   "cell_type": "code",
   "execution_count": 28,
   "id": "creative-subcommittee",
   "metadata": {
    "ExecuteTime": {
     "end_time": "2021-02-19T21:04:44.594429Z",
     "start_time": "2021-02-19T21:04:44.531983Z"
    },
    "hidden": true
   },
   "outputs": [
    {
     "name": "stdout",
     "output_type": "stream",
     "text": [
      "Minority class correclty classified baseline: 0.0\n",
      "Minority class correclty classified SGDClassifier: 0.6029356730009564\n",
      "Minority class correclty classified RandomForest: 0.4220549711006695\n"
     ]
    }
   ],
   "source": [
    "print(f\"Minority class correclty classified baseline: {minority_perc(y_test,y_test_base)}\")\n",
    "print(f\"Minority class correclty classified SGDClassifier: {minority_perc(y_test,y_test_sgd)}\")\n",
    "print(f\"Minority class correclty classified RandomForest: {minority_perc(y_test,y_test_rf)}\")"
   ]
  },
  {
   "cell_type": "markdown",
   "id": "fatty-qatar",
   "metadata": {
    "hidden": true
   },
   "source": [
    "... but only 42% of the observation in the minority class have been correctly classified."
   ]
  },
  {
   "cell_type": "markdown",
   "id": "careful-vessel",
   "metadata": {},
   "source": [
    "# Precision, Recall and F-Measure"
   ]
  },
  {
   "cell_type": "markdown",
   "id": "demographic-privacy",
   "metadata": {},
   "source": [
    "* True Positive Rate (Recall / sensitivity): TP(rate) = TP / TP+FN **- Minority Class**\n",
    "* True Negative Rate: TN(rate): TN(rate) = TN / TN + FP **- Majority Class**\n",
    "* Positive Predicted Value (Precision/specificity): PP(value) = TP / TP+FP **- Minority Class**\n",
    "* Negative Predicted Value: NP(value) = TN / TN+FN **- Majority Class**"
   ]
  },
  {
   "cell_type": "markdown",
   "id": "graphic-lottery",
   "metadata": {},
   "source": [
    "The best is to maximize both precision and recall, but sometimes it is not possible, so we have to tune the threshold we use to determine to which class belongs to the observation."
   ]
  },
  {
   "cell_type": "markdown",
   "id": "thrown-recovery",
   "metadata": {},
   "source": [
    "F1-Score (F-Measure) = 2 x (Precision x Recall) / (Precision + Recall)\n",
    "\n",
    "This is the weight harmonic mean of the precision and the recall. Optimizing this metric produces the best balance between the precision and the recall."
   ]
  },
  {
   "cell_type": "markdown",
   "id": "suspected-palmer",
   "metadata": {},
   "source": [
    "Support refers to the actual number of occurences of a class in the dataset. It allows to highlight imbalanced datasets."
   ]
  },
  {
   "cell_type": "code",
   "execution_count": 20,
   "id": "banned-massage",
   "metadata": {
    "ExecuteTime": {
     "end_time": "2021-02-19T20:58:37.788191Z",
     "start_time": "2021-02-19T20:58:37.785672Z"
    }
   },
   "outputs": [],
   "source": [
    "from sklearn.metrics import (precision_score,\n",
    "                            recall_score,\n",
    "                            f1_score,\n",
    "                            )\n",
    "\n",
    "from yellowbrick.classifier import (ClassificationReport,\n",
    "                                   DiscriminationThreshold)"
   ]
  },
  {
   "cell_type": "markdown",
   "id": "owned-danish",
   "metadata": {},
   "source": [
    "## Precision"
   ]
  },
  {
   "cell_type": "code",
   "execution_count": 29,
   "id": "broad-audience",
   "metadata": {
    "ExecuteTime": {
     "end_time": "2021-02-19T21:05:00.855434Z",
     "start_time": "2021-02-19T21:05:00.770179Z"
    }
   },
   "outputs": [
    {
     "name": "stdout",
     "output_type": "stream",
     "text": [
      "Precision baseline: 0.0\n",
      "Precision SGDClassifier: 0.7945205479452054\n",
      "Precision RandomForest: 0.9800664451827242\n"
     ]
    },
    {
     "name": "stderr",
     "output_type": "stream",
     "text": [
      "/Users/alexandrecasula/opt/anaconda3/envs/ML/lib/python3.8/site-packages/sklearn/metrics/_classification.py:1221: UndefinedMetricWarning: Precision is ill-defined and being set to 0.0 due to no predicted samples. Use `zero_division` parameter to control this behavior.\n",
      "  _warn_prf(average, modifier, msg_start, len(result))\n"
     ]
    }
   ],
   "source": [
    "print(f\"Precision baseline: {precision_score(y_test,y_test_base)}\")\n",
    "print(f\"Precision SGDClassifier: {precision_score(y_test,sgd.predict(X_test))}\")\n",
    "print(f\"Precision RandomForest: {precision_score(y_test,rf.predict(X_test))}\")"
   ]
  },
  {
   "cell_type": "markdown",
   "id": "greenhouse-combining",
   "metadata": {},
   "source": [
    "## Recall"
   ]
  },
  {
   "cell_type": "code",
   "execution_count": 30,
   "id": "third-mauritius",
   "metadata": {
    "ExecuteTime": {
     "end_time": "2021-02-19T21:05:10.193536Z",
     "start_time": "2021-02-19T21:05:10.110985Z"
    }
   },
   "outputs": [
    {
     "name": "stdout",
     "output_type": "stream",
     "text": [
      "Recall baseline: 0.0\n",
      "Recall SGDClassifier: 0.7945205479452054\n",
      "Recall RandomForest: 0.7040572792362768\n"
     ]
    }
   ],
   "source": [
    "print(f\"Recall baseline: {recall_score(y_test,y_test_base)}\")\n",
    "print(f\"Recall SGDClassifier: {precision_score(y_test,sgd.predict(X_test))}\")\n",
    "print(f\"Recall RandomForest: {recall_score(y_test,rf.predict(X_test))}\")"
   ]
  },
  {
   "cell_type": "markdown",
   "id": "connected-korea",
   "metadata": {},
   "source": [
    "## F1-Score"
   ]
  },
  {
   "cell_type": "code",
   "execution_count": 31,
   "id": "southern-profession",
   "metadata": {
    "ExecuteTime": {
     "end_time": "2021-02-19T21:05:26.178563Z",
     "start_time": "2021-02-19T21:05:26.121591Z"
    }
   },
   "outputs": [
    {
     "name": "stdout",
     "output_type": "stream",
     "text": [
      "F1 Score baseline: 0.0\n",
      "F1 Score SGDClassifier: 0.7945205479452054\n",
      "F1 Score RandomForest: 0.7397959183673469\n"
     ]
    }
   ],
   "source": [
    "print(f\"F1 Score baseline: {f1_score(y_test,y_test_base)}\")\n",
    "print(f\"F1 Score SGDClassifier: {precision_score(y_test,sgd.predict(X_test))}\")\n",
    "print(f\"F1 Score RandomForest: {f1_score(y_test,sgd.predict(X_test))}\")"
   ]
  },
  {
   "cell_type": "markdown",
   "id": "animal-michigan",
   "metadata": {},
   "source": [
    "The LogisticRegession does a little bit better than the randomforest (with the default threshold at 0.5)."
   ]
  },
  {
   "cell_type": "markdown",
   "id": "micro-banking",
   "metadata": {
    "ExecuteTime": {
     "end_time": "2021-02-19T21:06:50.111006Z",
     "start_time": "2021-02-19T21:06:50.108900Z"
    }
   },
   "source": [
    "## Full classification report"
   ]
  },
  {
   "cell_type": "code",
   "execution_count": 34,
   "id": "beautiful-christmas",
   "metadata": {
    "ExecuteTime": {
     "end_time": "2021-02-19T21:07:47.276405Z",
     "start_time": "2021-02-19T21:07:47.036849Z"
    }
   },
   "outputs": [
    {
     "data": {
      "image/png": "[encoded data removed]",
      "text/plain": [
       "<Figure size 576x396 with 2 Axes>"
      ]
     },
     "metadata": {},
     "output_type": "display_data"
    }
   ],
   "source": [
    "visualizer = ClassificationReport(rf)\n",
    "\n",
    "visualizer.fit(X_train,y_train)\n",
    "visualizer.score(X_test,y_test)\n",
    "visualizer.show()\n",
    "plt.show()"
   ]
  },
  {
   "cell_type": "code",
   "execution_count": 35,
   "id": "appropriate-plasma",
   "metadata": {
    "ExecuteTime": {
     "end_time": "2021-02-19T21:07:54.783333Z",
     "start_time": "2021-02-19T21:07:54.601104Z"
    }
   },
   "outputs": [
    {
     "data": {
      "image/png": "[encoded data removed]",
      "text/plain": [
       "<Figure size 576x396 with 2 Axes>"
      ]
     },
     "metadata": {},
     "output_type": "display_data"
    }
   ],
   "source": [
    "visualizer = ClassificationReport(sgd)\n",
    "\n",
    "visualizer.fit(X_train,y_train)\n",
    "visualizer.score(X_test,y_test)\n",
    "visualizer.show()\n",
    "plt.show()"
   ]
  },
  {
   "cell_type": "code",
   "execution_count": 49,
   "id": "clinical-headset",
   "metadata": {
    "ExecuteTime": {
     "end_time": "2021-02-19T21:16:27.455874Z",
     "start_time": "2021-02-19T21:16:25.957402Z"
    }
   },
   "outputs": [
    {
     "name": "stderr",
     "output_type": "stream",
     "text": [
      "/Users/alexandrecasula/opt/anaconda3/envs/ML/lib/python3.8/site-packages/sklearn/utils/deprecation.py:86: FutureWarning: Function safe_indexing is deprecated; safe_indexing is deprecated in version 0.22 and will be removed in version 0.24.\n",
      "  warnings.warn(msg, category=FutureWarning)\n"
     ]
    },
    {
     "data": {
      "image/png": "[encoded data removed]",
      "text/plain": [
       "<Figure size 1080x720 with 1 Axes>"
      ]
     },
     "metadata": {},
     "output_type": "display_data"
    }
   ],
   "source": [
    "visualizer = DiscriminationThreshold(sgd,\n",
    "                                     n_trials=1,# 1 to speed up process but can be higher to reduce the error.\n",
    "                                     cv=0.1,\n",
    "                                     argmax='fscore',\n",
    "                                     random_state=23,\n",
    "                                     is_fitted='auto',\n",
    "                                     exclude=\"queue_rate\"\n",
    "                                     )\n",
    "\n",
    "plt.figure(figsize=(15,10))\n",
    "visualizer.fit(X_train, y_train)\n",
    "visualizer.score(X_test, y_test)\n",
    "visualizer.show()\n",
    "plt.show()"
   ]
  },
  {
   "cell_type": "markdown",
   "id": "overhead-initial",
   "metadata": {},
   "source": [
    "0.33 seems to be the perfect threshold in this case for optimizing the f1 score."
   ]
  },
  {
   "cell_type": "markdown",
   "id": "ambient-future",
   "metadata": {
    "heading_collapsed": true
   },
   "source": [
    "# Confusion matrix, FPR and FNP"
   ]
  },
  {
   "cell_type": "markdown",
   "id": "meaningful-supplier",
   "metadata": {
    "hidden": true
   },
   "source": [
    "A confusion matrix is a matrix of the instances that are correctly and incorrectly classified.\n",
    "False Positive Rate: FP(rate) = FP / FP + TN --> How many observations from the majority class have been classified wrongly? (Type 2 Error)\n",
    "False Negative Rate: FN(rate) = FN / FN + TP --> How many observations from the minority class have been classified wrongly? (Type 1 Error)\n",
    "\n",
    "We try to minize both of them, and they all depend on the probability threshold.\n",
    "\n",
    "Example:\n",
    "* Minimize FPR: We want to minimize the number of people that are sick but are not diagnosed sick.\n",
    "* Minimize FNR: We want to minimize the number of drugs that are predicted beneficial, but are not."
   ]
  },
  {
   "cell_type": "code",
   "execution_count": 50,
   "id": "false-graduate",
   "metadata": {
    "ExecuteTime": {
     "end_time": "2021-02-19T21:28:32.983319Z",
     "start_time": "2021-02-19T21:28:32.980801Z"
    },
    "hidden": true
   },
   "outputs": [],
   "source": [
    "from sklearn.metrics import confusion_matrix"
   ]
  },
  {
   "cell_type": "markdown",
   "id": "meaningful-crack",
   "metadata": {
    "hidden": true
   },
   "source": [
    "## Confusion Matrix"
   ]
  },
  {
   "cell_type": "markdown",
   "id": "opponent-salvation",
   "metadata": {
    "hidden": true
   },
   "source": [
    "### Baseline"
   ]
  },
  {
   "cell_type": "code",
   "execution_count": 54,
   "id": "unsigned-blood",
   "metadata": {
    "ExecuteTime": {
     "end_time": "2021-02-19T21:29:30.475963Z",
     "start_time": "2021-02-19T21:29:30.337132Z"
    },
    "hidden": true
   },
   "outputs": [
    {
     "data": {
      "text/html": [
       "<div>\n",
       "<style scoped>\n",
       "    .dataframe tbody tr th:only-of-type {\n",
       "        vertical-align: middle;\n",
       "    }\n",
       "\n",
       "    .dataframe tbody tr th {\n",
       "        vertical-align: top;\n",
       "    }\n",
       "\n",
       "    .dataframe thead th {\n",
       "        text-align: right;\n",
       "    }\n",
       "</style>\n",
       "<table border=\"1\" class=\"dataframe\">\n",
       "  <thead>\n",
       "    <tr style=\"text-align: right;\">\n",
       "      <th></th>\n",
       "      <th>0</th>\n",
       "      <th>1</th>\n",
       "    </tr>\n",
       "  </thead>\n",
       "  <tbody>\n",
       "    <tr>\n",
       "      <th>0</th>\n",
       "      <td>47679</td>\n",
       "      <td>0</td>\n",
       "    </tr>\n",
       "    <tr>\n",
       "      <th>1</th>\n",
       "      <td>419</td>\n",
       "      <td>0</td>\n",
       "    </tr>\n",
       "  </tbody>\n",
       "</table>\n",
       "</div>"
      ],
      "text/plain": [
       "       0  1\n",
       "0  47679  0\n",
       "1    419  0"
      ]
     },
     "execution_count": 54,
     "metadata": {},
     "output_type": "execute_result"
    }
   ],
   "source": [
    "pd.DataFrame(confusion_matrix(y_test,y_test_base))"
   ]
  },
  {
   "cell_type": "markdown",
   "id": "brutal-plane",
   "metadata": {
    "hidden": true
   },
   "source": [
    "### Random Forest"
   ]
  },
  {
   "cell_type": "code",
   "execution_count": 56,
   "id": "operational-florist",
   "metadata": {
    "ExecuteTime": {
     "end_time": "2021-02-19T21:30:00.268425Z",
     "start_time": "2021-02-19T21:30:00.200736Z"
    },
    "hidden": true
   },
   "outputs": [
    {
     "data": {
      "text/html": [
       "<div>\n",
       "<style scoped>\n",
       "    .dataframe tbody tr th:only-of-type {\n",
       "        vertical-align: middle;\n",
       "    }\n",
       "\n",
       "    .dataframe tbody tr th {\n",
       "        vertical-align: top;\n",
       "    }\n",
       "\n",
       "    .dataframe thead th {\n",
       "        text-align: right;\n",
       "    }\n",
       "</style>\n",
       "<table border=\"1\" class=\"dataframe\">\n",
       "  <thead>\n",
       "    <tr style=\"text-align: right;\">\n",
       "      <th></th>\n",
       "      <th>0</th>\n",
       "      <th>1</th>\n",
       "    </tr>\n",
       "  </thead>\n",
       "  <tbody>\n",
       "    <tr>\n",
       "      <th>0</th>\n",
       "      <td>47673</td>\n",
       "      <td>6</td>\n",
       "    </tr>\n",
       "    <tr>\n",
       "      <th>1</th>\n",
       "      <td>124</td>\n",
       "      <td>295</td>\n",
       "    </tr>\n",
       "  </tbody>\n",
       "</table>\n",
       "</div>"
      ],
      "text/plain": [
       "       0    1\n",
       "0  47673    6\n",
       "1    124  295"
      ]
     },
     "execution_count": 56,
     "metadata": {},
     "output_type": "execute_result"
    }
   ],
   "source": [
    "pd.DataFrame(confusion_matrix(y_test,rf.predict(X_test)))"
   ]
  },
  {
   "cell_type": "markdown",
   "id": "instrumental-birthday",
   "metadata": {
    "hidden": true
   },
   "source": [
    "### LogisticRegression"
   ]
  },
  {
   "cell_type": "code",
   "execution_count": 58,
   "id": "continuous-mining",
   "metadata": {
    "ExecuteTime": {
     "end_time": "2021-02-19T21:30:30.996041Z",
     "start_time": "2021-02-19T21:30:30.941982Z"
    },
    "hidden": true,
    "scrolled": true
   },
   "outputs": [
    {
     "data": {
      "text/html": [
       "<div>\n",
       "<style scoped>\n",
       "    .dataframe tbody tr th:only-of-type {\n",
       "        vertical-align: middle;\n",
       "    }\n",
       "\n",
       "    .dataframe tbody tr th {\n",
       "        vertical-align: top;\n",
       "    }\n",
       "\n",
       "    .dataframe thead th {\n",
       "        text-align: right;\n",
       "    }\n",
       "</style>\n",
       "<table border=\"1\" class=\"dataframe\">\n",
       "  <thead>\n",
       "    <tr style=\"text-align: right;\">\n",
       "      <th></th>\n",
       "      <th>0</th>\n",
       "      <th>1</th>\n",
       "    </tr>\n",
       "  </thead>\n",
       "  <tbody>\n",
       "    <tr>\n",
       "      <th>0</th>\n",
       "      <td>47604</td>\n",
       "      <td>75</td>\n",
       "    </tr>\n",
       "    <tr>\n",
       "      <th>1</th>\n",
       "      <td>129</td>\n",
       "      <td>290</td>\n",
       "    </tr>\n",
       "  </tbody>\n",
       "</table>\n",
       "</div>"
      ],
      "text/plain": [
       "       0    1\n",
       "0  47604   75\n",
       "1    129  290"
      ]
     },
     "execution_count": 58,
     "metadata": {},
     "output_type": "execute_result"
    }
   ],
   "source": [
    "pd.DataFrame(confusion_matrix(y_test,sgd.predict(X_test)))"
   ]
  },
  {
   "cell_type": "markdown",
   "id": "intellectual-watts",
   "metadata": {
    "hidden": true
   },
   "source": [
    "## FPR and FNR"
   ]
  },
  {
   "cell_type": "code",
   "execution_count": 67,
   "id": "honey-ultimate",
   "metadata": {
    "ExecuteTime": {
     "end_time": "2021-02-19T21:38:46.264992Z",
     "start_time": "2021-02-19T21:38:46.141611Z"
    },
    "hidden": true
   },
   "outputs": [
    {
     "name": "stdout",
     "output_type": "stream",
     "text": [
      "FPR Baseline: 0.0\n",
      "FNR Baseline: 1.0\n"
     ]
    }
   ],
   "source": [
    "tn, fp, fn, tp = confusion_matrix(y_test,y_test_base,labels=[0,1]).ravel()\n",
    "\n",
    "FPR = fp / (fp + tn)\n",
    "FNR = fn / (fn + tp)\n",
    "\n",
    "print(f\"FPR Baseline: {FPR}\")\n",
    "print(f\"FNR Baseline: {FNR}\")"
   ]
  },
  {
   "cell_type": "markdown",
   "id": "upset-elements",
   "metadata": {
    "hidden": true
   },
   "source": [
    "FPR 0 because the model didn't identify any positive example as positive and the FNR is 1 because it classifies all the observations from the positive class incorrectly."
   ]
  },
  {
   "cell_type": "code",
   "execution_count": 68,
   "id": "lightweight-philosophy",
   "metadata": {
    "ExecuteTime": {
     "end_time": "2021-02-19T21:38:47.483130Z",
     "start_time": "2021-02-19T21:38:47.417819Z"
    },
    "hidden": true
   },
   "outputs": [
    {
     "name": "stdout",
     "output_type": "stream",
     "text": [
      "FPR Baseline: 0.00012584156546907444\n",
      "FNR Baseline: 0.29594272076372313\n"
     ]
    }
   ],
   "source": [
    "tn, fp, fn, tp = confusion_matrix(y_test,rf.predict(X_test),labels=[0,1]).ravel()\n",
    "\n",
    "FPR = fp / (fp + tn)\n",
    "FNR = fn / (fn + tp)\n",
    "\n",
    "print(f\"FPR Baseline: {FPR}\")\n",
    "print(f\"FNR Baseline: {FNR}\")"
   ]
  },
  {
   "cell_type": "code",
   "execution_count": 69,
   "id": "dangerous-quarterly",
   "metadata": {
    "ExecuteTime": {
     "end_time": "2021-02-19T21:38:49.191393Z",
     "start_time": "2021-02-19T21:38:49.145106Z"
    },
    "hidden": true
   },
   "outputs": [
    {
     "name": "stdout",
     "output_type": "stream",
     "text": [
      "FPR Baseline: 0.0015730195683634305\n",
      "FNR Baseline: 0.30787589498806683\n"
     ]
    }
   ],
   "source": [
    "tn, fp, fn, tp = confusion_matrix(y_test,sgd.predict(X_test),labels=[0,1]).ravel()\n",
    "\n",
    "FPR = fp / (fp + tn)\n",
    "FNR = fn / (fn + tp)\n",
    "\n",
    "print(f\"FPR Baseline: {FPR}\")\n",
    "print(f\"FNR Baseline: {FNR}\")"
   ]
  },
  {
   "cell_type": "markdown",
   "id": "executed-florist",
   "metadata": {
    "hidden": true
   },
   "source": [
    "## FPR and FNR vs Probability Threshold"
   ]
  },
  {
   "cell_type": "code",
   "execution_count": 70,
   "id": "vocal-departure",
   "metadata": {
    "ExecuteTime": {
     "end_time": "2021-02-19T21:41:03.486041Z",
     "start_time": "2021-02-19T21:41:03.483474Z"
    },
    "hidden": true
   },
   "outputs": [],
   "source": [
    "thresholds = np.linspace(0,1,100)"
   ]
  },
  {
   "cell_type": "code",
   "execution_count": 71,
   "id": "molecular-major",
   "metadata": {
    "ExecuteTime": {
     "end_time": "2021-02-19T21:41:05.946616Z",
     "start_time": "2021-02-19T21:41:05.942378Z"
    },
    "hidden": true
   },
   "outputs": [
    {
     "data": {
      "text/plain": [
       "array([0.        , 0.01010101, 0.02020202, 0.03030303, 0.04040404,\n",
       "       0.05050505, 0.06060606, 0.07070707, 0.08080808, 0.09090909,\n",
       "       0.1010101 , 0.11111111, 0.12121212, 0.13131313, 0.14141414,\n",
       "       0.15151515, 0.16161616, 0.17171717, 0.18181818, 0.19191919,\n",
       "       0.2020202 , 0.21212121, 0.22222222, 0.23232323, 0.24242424,\n",
       "       0.25252525, 0.26262626, 0.27272727, 0.28282828, 0.29292929,\n",
       "       0.3030303 , 0.31313131, 0.32323232, 0.33333333, 0.34343434,\n",
       "       0.35353535, 0.36363636, 0.37373737, 0.38383838, 0.39393939,\n",
       "       0.4040404 , 0.41414141, 0.42424242, 0.43434343, 0.44444444,\n",
       "       0.45454545, 0.46464646, 0.47474747, 0.48484848, 0.49494949,\n",
       "       0.50505051, 0.51515152, 0.52525253, 0.53535354, 0.54545455,\n",
       "       0.55555556, 0.56565657, 0.57575758, 0.58585859, 0.5959596 ,\n",
       "       0.60606061, 0.61616162, 0.62626263, 0.63636364, 0.64646465,\n",
       "       0.65656566, 0.66666667, 0.67676768, 0.68686869, 0.6969697 ,\n",
       "       0.70707071, 0.71717172, 0.72727273, 0.73737374, 0.74747475,\n",
       "       0.75757576, 0.76767677, 0.77777778, 0.78787879, 0.7979798 ,\n",
       "       0.80808081, 0.81818182, 0.82828283, 0.83838384, 0.84848485,\n",
       "       0.85858586, 0.86868687, 0.87878788, 0.88888889, 0.8989899 ,\n",
       "       0.90909091, 0.91919192, 0.92929293, 0.93939394, 0.94949495,\n",
       "       0.95959596, 0.96969697, 0.97979798, 0.98989899, 1.        ])"
      ]
     },
     "execution_count": 71,
     "metadata": {},
     "output_type": "execute_result"
    }
   ],
   "source": [
    "thresholds"
   ]
  },
  {
   "cell_type": "code",
   "execution_count": 83,
   "id": "brief-transition",
   "metadata": {
    "ExecuteTime": {
     "end_time": "2021-02-19T21:47:52.023080Z",
     "start_time": "2021-02-19T21:47:49.656727Z"
    },
    "hidden": true
   },
   "outputs": [],
   "source": [
    "fpr_ls = []\n",
    "fnr_ls = []\n",
    "\n",
    "prob = sgd.predict_proba(X_test)[:, 1]\n",
    "\n",
    "for threshold in thresholds:\n",
    "\n",
    "    # Class from the threshold\n",
    "    preds = np.where(prob >= threshold, 1, 0)\n",
    "\n",
    "    tn, fp, fn, tp = confusion_matrix(y_test, preds, labels=[0, 1]).ravel()\n",
    "\n",
    "    FPR = fp / (fp + tn)\n",
    "    FNR = fn / (fn + tp)\n",
    "\n",
    "    fpr_ls.append(FPR)\n",
    "    fnr_ls.append(FNR)\n",
    "\n",
    "metrics = pd.concat([pd.Series(fpr_ls), pd.Series(fnr_ls)], axis=1)"
   ]
  },
  {
   "cell_type": "code",
   "execution_count": 84,
   "id": "polish-sample",
   "metadata": {
    "ExecuteTime": {
     "end_time": "2021-02-19T21:47:52.364921Z",
     "start_time": "2021-02-19T21:47:52.362433Z"
    },
    "hidden": true
   },
   "outputs": [],
   "source": [
    "metrics.columns = [\"fpr\",\"fnr\"]\n",
    "metrics.index = thresholds"
   ]
  },
  {
   "cell_type": "code",
   "execution_count": 85,
   "id": "animal-sample",
   "metadata": {
    "ExecuteTime": {
     "end_time": "2021-02-19T21:47:52.679297Z",
     "start_time": "2021-02-19T21:47:52.673016Z"
    },
    "hidden": true
   },
   "outputs": [
    {
     "data": {
      "text/html": [
       "<div>\n",
       "<style scoped>\n",
       "    .dataframe tbody tr th:only-of-type {\n",
       "        vertical-align: middle;\n",
       "    }\n",
       "\n",
       "    .dataframe tbody tr th {\n",
       "        vertical-align: top;\n",
       "    }\n",
       "\n",
       "    .dataframe thead th {\n",
       "        text-align: right;\n",
       "    }\n",
       "</style>\n",
       "<table border=\"1\" class=\"dataframe\">\n",
       "  <thead>\n",
       "    <tr style=\"text-align: right;\">\n",
       "      <th></th>\n",
       "      <th>fpr</th>\n",
       "      <th>fnr</th>\n",
       "    </tr>\n",
       "  </thead>\n",
       "  <tbody>\n",
       "    <tr>\n",
       "      <th>0.000000</th>\n",
       "      <td>1.000000</td>\n",
       "      <td>0.000000</td>\n",
       "    </tr>\n",
       "    <tr>\n",
       "      <th>0.010101</th>\n",
       "      <td>0.001615</td>\n",
       "      <td>0.307876</td>\n",
       "    </tr>\n",
       "    <tr>\n",
       "      <th>0.020202</th>\n",
       "      <td>0.001594</td>\n",
       "      <td>0.307876</td>\n",
       "    </tr>\n",
       "    <tr>\n",
       "      <th>0.030303</th>\n",
       "      <td>0.001594</td>\n",
       "      <td>0.307876</td>\n",
       "    </tr>\n",
       "    <tr>\n",
       "      <th>0.040404</th>\n",
       "      <td>0.001594</td>\n",
       "      <td>0.307876</td>\n",
       "    </tr>\n",
       "  </tbody>\n",
       "</table>\n",
       "</div>"
      ],
      "text/plain": [
       "               fpr       fnr\n",
       "0.000000  1.000000  0.000000\n",
       "0.010101  0.001615  0.307876\n",
       "0.020202  0.001594  0.307876\n",
       "0.030303  0.001594  0.307876\n",
       "0.040404  0.001594  0.307876"
      ]
     },
     "execution_count": 85,
     "metadata": {},
     "output_type": "execute_result"
    }
   ],
   "source": [
    "metrics.head()"
   ]
  },
  {
   "cell_type": "code",
   "execution_count": 93,
   "id": "caring-concentration",
   "metadata": {
    "ExecuteTime": {
     "end_time": "2021-02-19T21:49:50.480607Z",
     "start_time": "2021-02-19T21:49:50.295649Z"
    },
    "hidden": true
   },
   "outputs": [
    {
     "data": {
      "text/plain": [
       "<Figure size 864x720 with 0 Axes>"
      ]
     },
     "metadata": {},
     "output_type": "display_data"
    },
    {
     "data": {
      "image/png": "[encoded data removed]",
      "text/plain": [
       "<Figure size 576x396 with 1 Axes>"
      ]
     },
     "metadata": {},
     "output_type": "display_data"
    }
   ],
   "source": [
    "plt.figure(figsize=(12,10))\n",
    "metrics.plot()\n",
    "plt.xlabel(\"probability Threshold\")\n",
    "plt.ylabel(\"fpr / fnr\")\n",
    "plt.title(\"fpr / fnr vs Discriminant Threshold\")\n",
    "plt.show()"
   ]
  },
  {
   "cell_type": "markdown",
   "id": "liberal-dating",
   "metadata": {
    "heading_collapsed": true
   },
   "source": [
    "# Geometric Mean, Dominance, Index of Imbalance Accuracy"
   ]
  },
  {
   "cell_type": "markdown",
   "id": "nominated-railway",
   "metadata": {
    "hidden": true
   },
   "source": [
    "The Geometric Mean (G-Mean) tries to maximize the accuracy on each of the classes while keeping these accuracies balanced.\n",
    "\n",
    "Worst score is 0 and best is 1.\n",
    "\n",
    "G-Mean = sqrt(RECALL X TNR) = sqrt(sensitivity x specificity)"
   ]
  },
  {
   "cell_type": "markdown",
   "id": "precious-darkness",
   "metadata": {
    "hidden": true
   },
   "source": [
    "The dominance is TPR - TNR = Recall - TNR, and it measures between -1 and +1, where a value of +1 indicates a perfect accuracy on the minority class while all the cases from the majority class are misclassified. A value of -1 indicates that all the cases from the minority class (positive class) are misclassified while the cases from the majority class are correctly classified."
   ]
  },
  {
   "cell_type": "markdown",
   "id": "educated-whole",
   "metadata": {
    "hidden": true
   },
   "source": [
    "Index of Imbalance Accuracy tries to quantify a trade-off between an index of how balanced the accuracy of the classes are and a chosen unbias measure.\n",
    "IBA(M) = (1+ alpha x dominance) x M\n",
    "where the first part is a weighting factor and M represents any performance metric."
   ]
  },
  {
   "cell_type": "code",
   "execution_count": 107,
   "id": "concrete-macedonia",
   "metadata": {
    "ExecuteTime": {
     "end_time": "2021-02-19T22:20:46.505536Z",
     "start_time": "2021-02-19T22:20:46.502885Z"
    },
    "hidden": true
   },
   "outputs": [],
   "source": [
    "from sklearn.metrics import balanced_accuracy_score\n",
    "\n",
    "from imblearn.metrics import geometric_mean_score as gmean, make_index_balanced_accuracy as iba"
   ]
  },
  {
   "cell_type": "markdown",
   "id": "hispanic-alias",
   "metadata": {
    "hidden": true
   },
   "source": [
    "## True Negative Rate"
   ]
  },
  {
   "cell_type": "markdown",
   "id": "neither-savage",
   "metadata": {
    "hidden": true
   },
   "source": [
    "Same as the recall but for the majority class."
   ]
  },
  {
   "cell_type": "code",
   "execution_count": 97,
   "id": "solved-drilling",
   "metadata": {
    "ExecuteTime": {
     "end_time": "2021-02-19T22:13:59.602233Z",
     "start_time": "2021-02-19T22:13:59.520536Z"
    },
    "hidden": true
   },
   "outputs": [
    {
     "name": "stdout",
     "output_type": "stream",
     "text": [
      "Recall baseline: 1.0\n",
      "Recall SGDClassifier: 0.9972974671610835\n",
      "Recall RandomForest: 0.999874158434531\n"
     ]
    }
   ],
   "source": [
    "print(f\"Recall baseline: {recall_score(y_test,y_test_base,pos_label=0)}\")\n",
    "print(f\"Recall SGDClassifier: {precision_score(y_test,sgd.predict(X_test),pos_label=0)}\")\n",
    "print(f\"Recall RandomForest: {recall_score(y_test,rf.predict(X_test),pos_label=0)}\")"
   ]
  },
  {
   "cell_type": "markdown",
   "id": "spanish-division",
   "metadata": {
    "hidden": true
   },
   "source": [
    "## G-Mean"
   ]
  },
  {
   "cell_type": "markdown",
   "id": "direct-melissa",
   "metadata": {
    "hidden": true
   },
   "source": [
    "G-Mean = sqrt(RECALL X TNR) = sqrt(sensitivity x specificity)"
   ]
  },
  {
   "cell_type": "code",
   "execution_count": 108,
   "id": "different-village",
   "metadata": {
    "ExecuteTime": {
     "end_time": "2021-02-19T22:20:48.256153Z",
     "start_time": "2021-02-19T22:20:48.205143Z"
    },
    "hidden": true
   },
   "outputs": [
    {
     "name": "stdout",
     "output_type": "stream",
     "text": [
      "G-Mean baseline: 0.0\n",
      "G-Mean SGDClassifier: 0.8312853783454954\n",
      "G-Mean RandomForest: 0.8390284140397618\n"
     ]
    }
   ],
   "source": [
    "print(f\"G-Mean baseline: {gmean(y_test,y_test_base)}\")\n",
    "print(f\"G-Mean SGDClassifier: {gmean(y_test,sgd.predict(X_test))}\")\n",
    "print(f\"G-Mean RandomForest: {gmean(y_test,rf.predict(X_test))}\")"
   ]
  },
  {
   "cell_type": "markdown",
   "id": "following-bennett",
   "metadata": {
    "hidden": true
   },
   "source": [
    "Baseline is zero because the recall is zero."
   ]
  },
  {
   "cell_type": "markdown",
   "id": "computational-smart",
   "metadata": {
    "hidden": true
   },
   "source": [
    "## Dominance"
   ]
  },
  {
   "cell_type": "markdown",
   "id": "enhanced-minutes",
   "metadata": {
    "hidden": true
   },
   "source": [
    "Dominance = TPR - TNR = Recall - TNR"
   ]
  },
  {
   "cell_type": "code",
   "execution_count": 105,
   "id": "aggressive-sister",
   "metadata": {
    "ExecuteTime": {
     "end_time": "2021-02-19T22:19:10.434557Z",
     "start_time": "2021-02-19T22:19:10.431967Z"
    },
    "hidden": true
   },
   "outputs": [],
   "source": [
    "def dominance(y_true,y_pred):\n",
    "    \n",
    "    TPR = recall_score(y_true,y_pred,pos_label=1)\n",
    "    TNR = recall_score(y_true,y_pred,pos_label=0)\n",
    "    \n",
    "    return TPR - TNR"
   ]
  },
  {
   "cell_type": "code",
   "execution_count": 106,
   "id": "gentle-annotation",
   "metadata": {
    "ExecuteTime": {
     "end_time": "2021-02-19T22:19:10.960828Z",
     "start_time": "2021-02-19T22:19:10.842594Z"
    },
    "hidden": true
   },
   "outputs": [
    {
     "name": "stdout",
     "output_type": "stream",
     "text": [
      "Dominance baseline: -1.0\n",
      "Dominance SGDClassifier: -0.30630287541970336\n",
      "Dominance RandomForest: -0.29581687919825417\n"
     ]
    }
   ],
   "source": [
    "print(f\"Dominance baseline: {dominance(y_test,y_test_base)}\")\n",
    "print(f\"Dominance SGDClassifier: {dominance(y_test,sgd.predict(X_test))}\")\n",
    "print(f\"Dominance RandomForest: {dominance(y_test,rf.predict(X_test))}\")"
   ]
  },
  {
   "cell_type": "markdown",
   "id": "atomic-pledge",
   "metadata": {
    "hidden": true
   },
   "source": [
    "## Index Imbalance Accuracy"
   ]
  },
  {
   "cell_type": "markdown",
   "id": "structured-mistake",
   "metadata": {
    "hidden": true
   },
   "source": [
    "### Gmean"
   ]
  },
  {
   "cell_type": "code",
   "execution_count": 109,
   "id": "painted-message",
   "metadata": {
    "ExecuteTime": {
     "end_time": "2021-02-19T22:21:13.631081Z",
     "start_time": "2021-02-19T22:21:13.579980Z"
    },
    "hidden": true
   },
   "outputs": [
    {
     "name": "stdout",
     "output_type": "stream",
     "text": [
      "G-Mean baseline: 0.0\n",
      "G-Mean SGDClassifier: 0.8312853783454954\n",
      "G-Mean RandomForest: 0.8390284140397618\n"
     ]
    }
   ],
   "source": [
    "print(f\"G-Mean baseline: {gmean(y_test,y_test_base)}\")\n",
    "print(f\"G-Mean SGDClassifier: {gmean(y_test,sgd.predict(X_test))}\")\n",
    "print(f\"G-Mean RandomForest: {gmean(y_test,rf.predict(X_test))}\")"
   ]
  },
  {
   "cell_type": "code",
   "execution_count": 111,
   "id": "another-domain",
   "metadata": {
    "ExecuteTime": {
     "end_time": "2021-02-19T22:21:41.167405Z",
     "start_time": "2021-02-19T22:21:41.165066Z"
    },
    "hidden": true
   },
   "outputs": [],
   "source": [
    "gmean = iba(alpha=0.5,squared=True)(gmean)"
   ]
  },
  {
   "cell_type": "code",
   "execution_count": 112,
   "id": "purple-ambassador",
   "metadata": {
    "ExecuteTime": {
     "end_time": "2021-02-19T22:21:47.145432Z",
     "start_time": "2021-02-19T22:21:47.071377Z"
    },
    "hidden": true
   },
   "outputs": [
    {
     "name": "stdout",
     "output_type": "stream",
     "text": [
      "G-Mean baseline: 0.0\n",
      "G-Mean SGDClassifier: 0.6910353802510135\n",
      "G-Mean RandomForest: 0.703968679566078\n"
     ]
    }
   ],
   "source": [
    "print(f\"G-Mean baseline: {gmean(y_test,y_test_base)}\")\n",
    "print(f\"G-Mean SGDClassifier: {gmean(y_test,sgd.predict(X_test))}\")\n",
    "print(f\"G-Mean RandomForest: {gmean(y_test,rf.predict(X_test))}\")"
   ]
  },
  {
   "cell_type": "markdown",
   "id": "premium-refund",
   "metadata": {
    "hidden": true
   },
   "source": [
    "### Accuracy"
   ]
  },
  {
   "cell_type": "code",
   "execution_count": 113,
   "id": "chicken-headline",
   "metadata": {
    "ExecuteTime": {
     "end_time": "2021-02-19T22:23:04.888775Z",
     "start_time": "2021-02-19T22:23:04.843358Z"
    },
    "hidden": true
   },
   "outputs": [
    {
     "name": "stdout",
     "output_type": "stream",
     "text": [
      "Accuracy baseline: 0.9912886190694\n",
      "Accuracy SGDClassifier: 0.9957586594037174\n",
      "Accuracy RandomForest: 0.9972971849141337\n"
     ]
    }
   ],
   "source": [
    "print(f\"Accuracy baseline: {accuracy_score(y_test,y_test_base)}\")\n",
    "print(f\"Accuracy SGDClassifier: {accuracy_score(y_test,sgd.predict(X_test))}\")\n",
    "print(f\"Accuracy RandomForest: {accuracy_score(y_test,rf.predict(X_test))}\")"
   ]
  },
  {
   "cell_type": "code",
   "execution_count": 114,
   "id": "affected-moisture",
   "metadata": {
    "ExecuteTime": {
     "end_time": "2021-02-19T22:23:19.071378Z",
     "start_time": "2021-02-19T22:23:19.068954Z"
    },
    "hidden": true
   },
   "outputs": [],
   "source": [
    "accuracy = iba(alpha=0.5,squared=True)(accuracy_score)"
   ]
  },
  {
   "cell_type": "code",
   "execution_count": 115,
   "id": "canadian-cambodia",
   "metadata": {
    "ExecuteTime": {
     "end_time": "2021-02-19T22:23:26.777581Z",
     "start_time": "2021-02-19T22:23:26.707364Z"
    },
    "hidden": true
   },
   "outputs": [
    {
     "name": "stdout",
     "output_type": "stream",
     "text": [
      "Accuracy baseline: 0.491326563148259\n",
      "Accuracy SGDClassifier: 0.8396802498512859\n",
      "Accuracy RandomForest: 0.847491693260158\n"
     ]
    }
   ],
   "source": [
    "print(f\"Accuracy baseline: {accuracy(y_test,y_test_base)}\")\n",
    "print(f\"Accuracy SGDClassifier: {accuracy(y_test,sgd.predict(X_test))}\")\n",
    "print(f\"Accuracy RandomForest: {accuracy(y_test,rf.predict(X_test))}\")"
   ]
  },
  {
   "cell_type": "markdown",
   "id": "golden-component",
   "metadata": {
    "hidden": true
   },
   "source": [
    "Baseline is now 50% which corresponds to a situation where the classes are balanced. So we can really see that the two models are better than the baseline thanks to the adjusted accuracy."
   ]
  },
  {
   "cell_type": "markdown",
   "id": "million-maker",
   "metadata": {
    "hidden": true
   },
   "source": [
    "## Balanced Accuracy Score"
   ]
  },
  {
   "cell_type": "code",
   "execution_count": 116,
   "id": "mediterranean-hobby",
   "metadata": {
    "ExecuteTime": {
     "end_time": "2021-02-19T22:26:11.421317Z",
     "start_time": "2021-02-19T22:26:11.204058Z"
    },
    "hidden": true
   },
   "outputs": [
    {
     "name": "stdout",
     "output_type": "stream",
     "text": [
      "Accuracy baseline: 0.5\n",
      "Accuracy SGDClassifier: 0.8452755427217848\n",
      "Accuracy RandomForest: 0.851965718835404\n"
     ]
    }
   ],
   "source": [
    "print(f\"Accuracy baseline: {balanced_accuracy_score(y_test,y_test_base)}\")\n",
    "print(f\"Accuracy SGDClassifier: {balanced_accuracy_score(y_test,sgd.predict(X_test))}\")\n",
    "print(f\"Accuracy RandomForest: {balanced_accuracy_score(y_test,rf.predict(X_test))}\")"
   ]
  },
  {
   "cell_type": "markdown",
   "id": "primary-popularity",
   "metadata": {
    "ExecuteTime": {
     "end_time": "2021-02-19T22:26:46.667353Z",
     "start_time": "2021-02-19T22:26:46.660266Z"
    },
    "hidden": true
   },
   "source": [
    "The balanced accuracy in binary and multiclass classification problems to\n",
    "deal with imbalanced datasets. It is defined as the average of recall\n",
    "obtained on each class.\n",
    "\n",
    "The best value is 1 and the worst value is 0 when ``adjusted=False``."
   ]
  },
  {
   "cell_type": "markdown",
   "id": "fitting-bangladesh",
   "metadata": {},
   "source": [
    "# ROC-AUC"
   ]
  },
  {
   "cell_type": "markdown",
   "id": "amber-artist",
   "metadata": {},
   "source": [
    "The ROC(Receiving Operating Characteristics) curve plots the TPrate (accuracy for the positive class) and the TNrate at different thresholds.\n",
    "\n",
    "Each point of the curve represents a threshold and a trade-off between the two metrics.\n",
    "\n",
    "It evaluates how well a model can separate the true positive and the true negative observations and helps choosing the best threshold."
   ]
  },
  {
   "cell_type": "markdown",
   "id": "distinct-indication",
   "metadata": {},
   "source": [
    "Higher AUC indicates the model is better at predicting both classes.\n",
    "\n",
    "The AUC (Area Under the Curve) provides an aggregate measures of performance accross all possible classification threshold. "
   ]
  },
  {
   "cell_type": "markdown",
   "id": "neither-forest",
   "metadata": {},
   "source": [
    "As the threshold decreases, the TPR increases (TP / TP+FP) and the FPR (TP / TP+FN) increases.\n",
    "\n",
    "If the threshold = 0 then RECALL / TPR = 1 but FPR = balancing ration and if threshold = 1 then RECALL/TPR approx 0 and FRP approx 0."
   ]
  },
  {
   "cell_type": "markdown",
   "id": "latest-philadelphia",
   "metadata": {},
   "source": [
    "The performance of our model will vary between ROC-AUC = 0.5 (random model) and ROC-AUC = 1. The closer to 1, the better is the model, with a perfect model having ROC-AUC = 1.\n",
    "\n",
    "Issues: - Difficult to compare different models with discriminant thresholds as the behaviors of those models can be different."
   ]
  },
  {
   "cell_type": "code",
   "execution_count": 118,
   "id": "industrial-greece",
   "metadata": {
    "ExecuteTime": {
     "end_time": "2021-02-19T22:44:29.030774Z",
     "start_time": "2021-02-19T22:44:29.028447Z"
    }
   },
   "outputs": [],
   "source": [
    "from yellowbrick.classifier import ROCAUC\n",
    "from sklearn.metrics import  roc_auc_score,plot_roc_curve"
   ]
  },
  {
   "cell_type": "markdown",
   "id": "afraid-schedule",
   "metadata": {},
   "source": [
    "## ROC-AUC"
   ]
  },
  {
   "cell_type": "code",
   "execution_count": 121,
   "id": "institutional-location",
   "metadata": {
    "ExecuteTime": {
     "end_time": "2021-02-19T22:47:40.385885Z",
     "start_time": "2021-02-19T22:47:40.325018Z"
    }
   },
   "outputs": [
    {
     "name": "stdout",
     "output_type": "stream",
     "text": [
      "ROC-AUC baseline: 0.5\n",
      "ROC-AUC SGDClassifier: 0.8511026479237819\n",
      "ROC-AUC RandomForest: 0.9245622863440227\n"
     ]
    }
   ],
   "source": [
    "print(f\"ROC-AUC baseline: {roc_auc_score(y_test,y_test_base)}\")\n",
    "print(f\"ROC-AUC SGDClassifier: {roc_auc_score(y_test,sgd.predict_proba(X_test)[:,1])}\")\n",
    "print(f\"ROC-AUC RandomForest: {roc_auc_score(y_test,rf.predict_proba(X_test)[:,1])}\")"
   ]
  },
  {
   "cell_type": "markdown",
   "id": "elementary-mentor",
   "metadata": {},
   "source": [
    "## Plot ROC-AUC with Sklearn"
   ]
  },
  {
   "cell_type": "code",
   "execution_count": 120,
   "id": "rising-methodology",
   "metadata": {
    "ExecuteTime": {
     "end_time": "2021-02-19T22:46:37.250962Z",
     "start_time": "2021-02-19T22:46:36.936371Z"
    }
   },
   "outputs": [
    {
     "data": {
      "image/png": "[encoded data removed]",
      "text/plain": [
       "<Figure size 576x396 with 1 Axes>"
      ]
     },
     "metadata": {},
     "output_type": "display_data"
    },
    {
     "data": {
      "image/png": "[encoded data removed]",
      "text/plain": [
       "<Figure size 576x396 with 1 Axes>"
      ]
     },
     "metadata": {},
     "output_type": "display_data"
    }
   ],
   "source": [
    "rf_dist = plot_roc_curve(rf,X_test,y_test)\n",
    "sgd_dist = plot_roc_curve(sgd,X_test,y_test)"
   ]
  },
  {
   "cell_type": "code",
   "execution_count": 124,
   "id": "armed-assignment",
   "metadata": {
    "ExecuteTime": {
     "end_time": "2021-02-19T22:50:39.435328Z",
     "start_time": "2021-02-19T22:50:39.258029Z"
    }
   },
   "outputs": [
    {
     "data": {
      "text/plain": [
       "<sklearn.metrics._plot.roc_curve.RocCurveDisplay at 0x7f88cd573f10>"
      ]
     },
     "execution_count": 124,
     "metadata": {},
     "output_type": "execute_result"
    },
    {
     "data": {
      "image/png": "[encoded data removed]",
      "text/plain": [
       "<Figure size 576x396 with 1 Axes>"
      ]
     },
     "metadata": {},
     "output_type": "display_data"
    }
   ],
   "source": [
    "ax = plt.gca()\n",
    "rf_dist.plot(ax=ax,alpha=0.8)\n",
    "sgd_dist.plot(ax=ax,alpha=0.8)"
   ]
  },
  {
   "cell_type": "markdown",
   "id": "equipped-vacation",
   "metadata": {},
   "source": [
    "## ROC-AUC with Yellowbrick"
   ]
  },
  {
   "cell_type": "code",
   "execution_count": 126,
   "id": "coordinate-neutral",
   "metadata": {
    "ExecuteTime": {
     "end_time": "2021-02-19T22:52:14.716093Z",
     "start_time": "2021-02-19T22:52:14.458404Z"
    }
   },
   "outputs": [
    {
     "data": {
      "image/png": "[encoded data removed]",
      "text/plain": [
       "<Figure size 1080x720 with 1 Axes>"
      ]
     },
     "metadata": {},
     "output_type": "display_data"
    }
   ],
   "source": [
    "visualizer = ROCAUC(rf,classes=[0,1])\n",
    "\n",
    "plt.figure(figsize=(15,10))\n",
    "visualizer.fit(X_train,y_train)\n",
    "visualizer.score(X_test,y_test)\n",
    "visualizer.show()\n",
    "plt.show()"
   ]
  },
  {
   "cell_type": "code",
   "execution_count": 127,
   "id": "developing-manitoba",
   "metadata": {
    "ExecuteTime": {
     "end_time": "2021-02-19T22:52:29.841194Z",
     "start_time": "2021-02-19T22:52:29.608362Z"
    }
   },
   "outputs": [
    {
     "data": {
      "image/png": "[encoded data removed]",
      "text/plain": [
       "<Figure size 1080x720 with 1 Axes>"
      ]
     },
     "metadata": {},
     "output_type": "display_data"
    }
   ],
   "source": [
    "visualizer = ROCAUC(sgd,classes=[0,1])\n",
    "\n",
    "plt.figure(figsize=(15,10))\n",
    "visualizer.fit(X_train,y_train)\n",
    "visualizer.score(X_test,y_test)\n",
    "visualizer.show()\n",
    "plt.show()"
   ]
  },
  {
   "cell_type": "markdown",
   "id": "warming-lindsay",
   "metadata": {},
   "source": [
    "# Precision-Recall Curve"
   ]
  },
  {
   "cell_type": "markdown",
   "id": "tropical-export",
   "metadata": {},
   "source": [
    "Positive Predictive Value = TP / (TP+FP) = Precision\n",
    "\n",
    "TPRate = TP / (TP + FN) = Recall / Sensitivity\n",
    "\n",
    "Show the relationship between the precision and recall for every cut-off / discriminant probability threhold.\n",
    "\n",
    "The area under the PRC provides an aggreate measure of the performance across all possible classification threhold. Higher area indicates better model.\n",
    "\n",
    "The threshold decreases to the right of the plot (like the ROC-AUC), and when the threhold decreases, the precision \n",
    "(tp / tp+fp) decreases and the recall/sensitivity (tp / tp+fn) increases.\n",
    "\n",
    "When the threshold approx 1, the recall approx 0 and precision approx 1."
   ]
  },
  {
   "cell_type": "markdown",
   "id": "close-royal",
   "metadata": {},
   "source": [
    "PRC is more robust than ROC-AUC for imbalanced dataset because they are less sensitive to imbalance unlike ROC-AUC,which are sensitive to having many observations from the majority class which will make the ROC-AUC improve significantly. Therefore ROC-AUC reflects more the imbalanced than the true performance."
   ]
  },
  {
   "cell_type": "code",
   "execution_count": 133,
   "id": "velvet-investigation",
   "metadata": {
    "ExecuteTime": {
     "end_time": "2021-02-19T23:09:32.818986Z",
     "start_time": "2021-02-19T23:09:32.816570Z"
    }
   },
   "outputs": [],
   "source": [
    "from sklearn.metrics import plot_precision_recall_curve\n",
    "\n",
    "from yellowbrick.classifier import PrecisionRecallCurve"
   ]
  },
  {
   "cell_type": "markdown",
   "id": "continuing-placement",
   "metadata": {},
   "source": [
    "## Plot PRC Sklearn"
   ]
  },
  {
   "cell_type": "code",
   "execution_count": 129,
   "id": "foreign-rochester",
   "metadata": {
    "ExecuteTime": {
     "end_time": "2021-02-19T23:07:15.157805Z",
     "start_time": "2021-02-19T23:07:14.833055Z"
    }
   },
   "outputs": [
    {
     "data": {
      "image/png": "[encoded data removed]",
      "text/plain": [
       "<Figure size 576x396 with 1 Axes>"
      ]
     },
     "metadata": {},
     "output_type": "display_data"
    },
    {
     "data": {
      "image/png": "[encoded data removed]",
      "text/plain": [
       "<Figure size 576x396 with 1 Axes>"
      ]
     },
     "metadata": {},
     "output_type": "display_data"
    }
   ],
   "source": [
    "rf_dist = plot_precision_recall_curve(rf,X_test,y_test)\n",
    "sgd_dist = plot_precision_recall_curve(sgd,X_test,y_test)"
   ]
  },
  {
   "cell_type": "code",
   "execution_count": 130,
   "id": "funky-latino",
   "metadata": {
    "ExecuteTime": {
     "end_time": "2021-02-19T23:07:32.883891Z",
     "start_time": "2021-02-19T23:07:32.706266Z"
    }
   },
   "outputs": [
    {
     "data": {
      "text/plain": [
       "<sklearn.metrics._plot.precision_recall_curve.PrecisionRecallDisplay at 0x7f88e8bd88e0>"
      ]
     },
     "execution_count": 130,
     "metadata": {},
     "output_type": "execute_result"
    },
    {
     "data": {
      "image/png": "[encoded data removed]",
      "text/plain": [
       "<Figure size 576x396 with 1 Axes>"
      ]
     },
     "metadata": {},
     "output_type": "display_data"
    }
   ],
   "source": [
    "ax = plt.gca()\n",
    "rf_dist.plot(ax=ax,alpha=0.8)\n",
    "sgd_dist.plot(ax=ax,alpha=0.8)"
   ]
  },
  {
   "cell_type": "markdown",
   "id": "external-plane",
   "metadata": {},
   "source": [
    "## Plot with Yellowbrick"
   ]
  },
  {
   "cell_type": "code",
   "execution_count": 134,
   "id": "suitable-staff",
   "metadata": {
    "ExecuteTime": {
     "end_time": "2021-02-19T23:09:39.398010Z",
     "start_time": "2021-02-19T23:09:39.136654Z"
    }
   },
   "outputs": [
    {
     "data": {
      "image/png": "[encoded data removed]",
      "text/plain": [
       "<Figure size 1080x720 with 1 Axes>"
      ]
     },
     "metadata": {},
     "output_type": "display_data"
    }
   ],
   "source": [
    "visualizer = PrecisionRecallCurve(rf,classes=[0,1])\n",
    "\n",
    "plt.figure(figsize=(15,10))\n",
    "visualizer.fit(X_train,y_train)\n",
    "visualizer.score(X_test,y_test)\n",
    "visualizer.show()\n",
    "plt.show()"
   ]
  },
  {
   "cell_type": "code",
   "execution_count": 135,
   "id": "functional-leeds",
   "metadata": {
    "ExecuteTime": {
     "end_time": "2021-02-19T23:09:46.844458Z",
     "start_time": "2021-02-19T23:09:46.596565Z"
    }
   },
   "outputs": [
    {
     "data": {
      "image/png": "[encoded data removed]",
      "text/plain": [
       "<Figure size 1080x720 with 1 Axes>"
      ]
     },
     "metadata": {},
     "output_type": "display_data"
    }
   ],
   "source": [
    "visualizer = PrecisionRecallCurve(sgd,classes=[0,1])\n",
    "\n",
    "plt.figure(figsize=(15,10))\n",
    "visualizer.fit(X_train,y_train)\n",
    "visualizer.score(X_test,y_test)\n",
    "visualizer.show()\n",
    "plt.show()"
   ]
  }
 ],
 "metadata": {
  "hide_input": false,
  "kernelspec": {
   "display_name": "Python 3",
   "language": "python",
   "name": "python3"
  },
  "language_info": {
   "codemirror_mode": {
    "name": "ipython",
    "version": 3
   },
   "file_extension": ".py",
   "mimetype": "text/x-python",
   "name": "python",
   "nbconvert_exporter": "python",
   "pygments_lexer": "ipython3",
   "version": "3.8.5"
  },
  "toc": {
   "base_numbering": 1,
   "nav_menu": {},
   "number_sections": true,
   "sideBar": true,
   "skip_h1_title": false,
   "title_cell": "Table of Contents",
   "title_sidebar": "Contents",
   "toc_cell": false,
   "toc_position": {
    "height": "calc(100% - 180px)",
    "left": "10px",
    "top": "150px",
    "width": "358.390625px"
   },
   "toc_section_display": true,
   "toc_window_display": true
  },
  "varInspector": {
   "cols": {
    "lenName": 16,
    "lenType": 16,
    "lenVar": 40
   },
   "kernels_config": {
    "python": {
     "delete_cmd_postfix": "",
     "delete_cmd_prefix": "del ",
     "library": "var_list.py",
     "varRefreshCmd": "print(var_dic_list())"
    },
    "r": {
     "delete_cmd_postfix": ") ",
     "delete_cmd_prefix": "rm(",
     "library": "var_list.r",
     "varRefreshCmd": "cat(var_dic_list()) "
    }
   },
   "types_to_exclude": [
    "module",
    "function",
    "builtin_function_or_method",
    "instance",
    "_Feature"
   ],
   "window_display": false
  }
 },
 "nbformat": 4,
 "nbformat_minor": 5
}
