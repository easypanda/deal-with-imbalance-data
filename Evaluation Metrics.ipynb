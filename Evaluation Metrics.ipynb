{
 "cells": [
  {
   "cell_type": "code",
   "execution_count": 24,
   "id": "statewide-lloyd",
   "metadata": {
    "ExecuteTime": {
     "end_time": "2021-02-19T21:03:10.466907Z",
     "start_time": "2021-02-19T21:03:10.463737Z"
    }
   },
   "outputs": [],
   "source": [
    "# Import libraries\n",
    "\n",
    "import pandas as pd\n",
    "import numpy as np\n",
    "\n",
    "from sklearn.ensemble import RandomForestClassifier\n",
    "from sklearn.linear_model import SGDClassifier,LogisticRegression\n",
    "from sklearn.model_selection import train_test_split\n",
    "\n",
    "import matplotlib.pyplot as plt\n",
    "import seaborn as sns\n",
    "sns.set_style(\"whitegrid\")"
   ]
  },
  {
   "cell_type": "code",
   "execution_count": 2,
   "id": "surprising-proxy",
   "metadata": {
    "ExecuteTime": {
     "end_time": "2021-02-19T20:55:53.430170Z",
     "start_time": "2021-02-19T20:55:53.427959Z"
    }
   },
   "outputs": [],
   "source": [
    "np.random.seed(24)"
   ]
  },
  {
   "cell_type": "code",
   "execution_count": 3,
   "id": "conventional-wrestling",
   "metadata": {
    "ExecuteTime": {
     "end_time": "2021-02-19T20:55:53.434688Z",
     "start_time": "2021-02-19T20:55:53.432078Z"
    }
   },
   "outputs": [],
   "source": [
    "def load_data():\n",
    "    \n",
    "    df = pd.read_csv(\"./kdd2004.csv\")\n",
    "    df[\"target\"] = df[\"target\"].map({-1:0,1:1})\n",
    "    \n",
    "    return df"
   ]
  },
  {
   "cell_type": "markdown",
   "id": "initial-platform",
   "metadata": {},
   "source": [
    "# Accuracy"
   ]
  },
  {
   "cell_type": "markdown",
   "id": "fundamental-tsunami",
   "metadata": {},
   "source": [
    "Accuracy = Total number of correct predictions / total number of predictions -> Percentage of correct predictions.\n",
    "\n",
    "For binary classification, this translate to Accuracy = TP + TN = TP+TN+FP+FN.\n",
    "\n",
    "This is not an approriate metric for imbalance dataset due to the fact that it doesn't take into consideration the number of correctly classified examples of different classes (the minority class has very low impact on the overall accuracy).\n",
    "\n",
    "Baseline detection = Predict always the majority class."
   ]
  },
  {
   "cell_type": "code",
   "execution_count": 4,
   "id": "laden-interaction",
   "metadata": {
    "ExecuteTime": {
     "end_time": "2021-02-19T20:55:53.438249Z",
     "start_time": "2021-02-19T20:55:53.436393Z"
    }
   },
   "outputs": [],
   "source": [
    "from sklearn.metrics import accuracy_score"
   ]
  },
  {
   "cell_type": "code",
   "execution_count": 5,
   "id": "current-banks",
   "metadata": {
    "ExecuteTime": {
     "end_time": "2021-02-19T20:55:54.490518Z",
     "start_time": "2021-02-19T20:55:53.439738Z"
    }
   },
   "outputs": [],
   "source": [
    "df = load_data()"
   ]
  },
  {
   "cell_type": "code",
   "execution_count": 6,
   "id": "mysterious-circumstances",
   "metadata": {
    "ExecuteTime": {
     "end_time": "2021-02-19T20:55:54.520854Z",
     "start_time": "2021-02-19T20:55:54.492369Z"
    }
   },
   "outputs": [
    {
     "data": {
      "text/html": [
       "<div>\n",
       "<style scoped>\n",
       "    .dataframe tbody tr th:only-of-type {\n",
       "        vertical-align: middle;\n",
       "    }\n",
       "\n",
       "    .dataframe tbody tr th {\n",
       "        vertical-align: top;\n",
       "    }\n",
       "\n",
       "    .dataframe thead th {\n",
       "        text-align: right;\n",
       "    }\n",
       "</style>\n",
       "<table border=\"1\" class=\"dataframe\">\n",
       "  <thead>\n",
       "    <tr style=\"text-align: right;\">\n",
       "      <th></th>\n",
       "      <th>0</th>\n",
       "      <th>1</th>\n",
       "      <th>2</th>\n",
       "      <th>3</th>\n",
       "      <th>4</th>\n",
       "      <th>5</th>\n",
       "      <th>6</th>\n",
       "      <th>7</th>\n",
       "      <th>8</th>\n",
       "      <th>9</th>\n",
       "      <th>...</th>\n",
       "      <th>65</th>\n",
       "      <th>66</th>\n",
       "      <th>67</th>\n",
       "      <th>68</th>\n",
       "      <th>69</th>\n",
       "      <th>70</th>\n",
       "      <th>71</th>\n",
       "      <th>72</th>\n",
       "      <th>73</th>\n",
       "      <th>target</th>\n",
       "    </tr>\n",
       "  </thead>\n",
       "  <tbody>\n",
       "    <tr>\n",
       "      <th>0</th>\n",
       "      <td>52.0</td>\n",
       "      <td>32.69</td>\n",
       "      <td>0.30</td>\n",
       "      <td>2.5</td>\n",
       "      <td>20.0</td>\n",
       "      <td>1256.8</td>\n",
       "      <td>-0.89</td>\n",
       "      <td>0.33</td>\n",
       "      <td>11.0</td>\n",
       "      <td>-55.0</td>\n",
       "      <td>...</td>\n",
       "      <td>1595.1</td>\n",
       "      <td>-1.64</td>\n",
       "      <td>2.83</td>\n",
       "      <td>-2.0</td>\n",
       "      <td>-50.0</td>\n",
       "      <td>445.2</td>\n",
       "      <td>-0.35</td>\n",
       "      <td>0.26</td>\n",
       "      <td>0.76</td>\n",
       "      <td>0</td>\n",
       "    </tr>\n",
       "    <tr>\n",
       "      <th>1</th>\n",
       "      <td>58.0</td>\n",
       "      <td>33.33</td>\n",
       "      <td>0.00</td>\n",
       "      <td>16.5</td>\n",
       "      <td>9.5</td>\n",
       "      <td>608.1</td>\n",
       "      <td>0.50</td>\n",
       "      <td>0.07</td>\n",
       "      <td>20.5</td>\n",
       "      <td>-52.5</td>\n",
       "      <td>...</td>\n",
       "      <td>762.9</td>\n",
       "      <td>0.29</td>\n",
       "      <td>0.82</td>\n",
       "      <td>-3.0</td>\n",
       "      <td>-35.0</td>\n",
       "      <td>140.3</td>\n",
       "      <td>1.16</td>\n",
       "      <td>0.39</td>\n",
       "      <td>0.73</td>\n",
       "      <td>0</td>\n",
       "    </tr>\n",
       "    <tr>\n",
       "      <th>2</th>\n",
       "      <td>77.0</td>\n",
       "      <td>27.27</td>\n",
       "      <td>-0.91</td>\n",
       "      <td>6.0</td>\n",
       "      <td>58.5</td>\n",
       "      <td>1623.6</td>\n",
       "      <td>-1.40</td>\n",
       "      <td>0.02</td>\n",
       "      <td>-6.5</td>\n",
       "      <td>-48.0</td>\n",
       "      <td>...</td>\n",
       "      <td>1491.8</td>\n",
       "      <td>0.32</td>\n",
       "      <td>-1.29</td>\n",
       "      <td>0.0</td>\n",
       "      <td>-34.0</td>\n",
       "      <td>658.2</td>\n",
       "      <td>-0.76</td>\n",
       "      <td>0.26</td>\n",
       "      <td>0.24</td>\n",
       "      <td>0</td>\n",
       "    </tr>\n",
       "    <tr>\n",
       "      <th>3</th>\n",
       "      <td>41.0</td>\n",
       "      <td>27.91</td>\n",
       "      <td>-0.35</td>\n",
       "      <td>3.0</td>\n",
       "      <td>46.0</td>\n",
       "      <td>1921.6</td>\n",
       "      <td>-1.36</td>\n",
       "      <td>-0.47</td>\n",
       "      <td>-32.0</td>\n",
       "      <td>-51.5</td>\n",
       "      <td>...</td>\n",
       "      <td>2047.7</td>\n",
       "      <td>-0.98</td>\n",
       "      <td>1.53</td>\n",
       "      <td>0.0</td>\n",
       "      <td>-49.0</td>\n",
       "      <td>554.2</td>\n",
       "      <td>-0.83</td>\n",
       "      <td>0.39</td>\n",
       "      <td>0.73</td>\n",
       "      <td>0</td>\n",
       "    </tr>\n",
       "    <tr>\n",
       "      <th>4</th>\n",
       "      <td>50.0</td>\n",
       "      <td>28.00</td>\n",
       "      <td>-1.32</td>\n",
       "      <td>-9.0</td>\n",
       "      <td>12.0</td>\n",
       "      <td>464.8</td>\n",
       "      <td>0.88</td>\n",
       "      <td>0.19</td>\n",
       "      <td>8.0</td>\n",
       "      <td>-51.5</td>\n",
       "      <td>...</td>\n",
       "      <td>479.5</td>\n",
       "      <td>0.68</td>\n",
       "      <td>-0.59</td>\n",
       "      <td>2.0</td>\n",
       "      <td>-36.0</td>\n",
       "      <td>-6.9</td>\n",
       "      <td>2.02</td>\n",
       "      <td>0.14</td>\n",
       "      <td>-0.23</td>\n",
       "      <td>0</td>\n",
       "    </tr>\n",
       "  </tbody>\n",
       "</table>\n",
       "<p>5 rows × 75 columns</p>\n",
       "</div>"
      ],
      "text/plain": [
       "      0      1     2     3     4       5     6     7     8     9  ...      65  \\\n",
       "0  52.0  32.69  0.30   2.5  20.0  1256.8 -0.89  0.33  11.0 -55.0  ...  1595.1   \n",
       "1  58.0  33.33  0.00  16.5   9.5   608.1  0.50  0.07  20.5 -52.5  ...   762.9   \n",
       "2  77.0  27.27 -0.91   6.0  58.5  1623.6 -1.40  0.02  -6.5 -48.0  ...  1491.8   \n",
       "3  41.0  27.91 -0.35   3.0  46.0  1921.6 -1.36 -0.47 -32.0 -51.5  ...  2047.7   \n",
       "4  50.0  28.00 -1.32  -9.0  12.0   464.8  0.88  0.19   8.0 -51.5  ...   479.5   \n",
       "\n",
       "     66    67   68    69     70    71    72    73  target  \n",
       "0 -1.64  2.83 -2.0 -50.0  445.2 -0.35  0.26  0.76       0  \n",
       "1  0.29  0.82 -3.0 -35.0  140.3  1.16  0.39  0.73       0  \n",
       "2  0.32 -1.29  0.0 -34.0  658.2 -0.76  0.26  0.24       0  \n",
       "3 -0.98  1.53  0.0 -49.0  554.2 -0.83  0.39  0.73       0  \n",
       "4  0.68 -0.59  2.0 -36.0   -6.9  2.02  0.14 -0.23       0  \n",
       "\n",
       "[5 rows x 75 columns]"
      ]
     },
     "execution_count": 6,
     "metadata": {},
     "output_type": "execute_result"
    }
   ],
   "source": [
    "df.head()"
   ]
  },
  {
   "cell_type": "code",
   "execution_count": 7,
   "id": "likely-atmosphere",
   "metadata": {
    "ExecuteTime": {
     "end_time": "2021-02-19T20:55:54.525962Z",
     "start_time": "2021-02-19T20:55:54.522775Z"
    }
   },
   "outputs": [
    {
     "data": {
      "text/plain": [
       "(145751, 75)"
      ]
     },
     "execution_count": 7,
     "metadata": {},
     "output_type": "execute_result"
    }
   ],
   "source": [
    "df.shape"
   ]
  },
  {
   "cell_type": "code",
   "execution_count": 8,
   "id": "moving-visiting",
   "metadata": {
    "ExecuteTime": {
     "end_time": "2021-02-19T20:55:54.669033Z",
     "start_time": "2021-02-19T20:55:54.529257Z"
    }
   },
   "outputs": [
    {
     "data": {
      "image/png": "[encoded data removed]",
      "text/plain": [
       "<Figure size 432x288 with 1 Axes>"
      ]
     },
     "metadata": {},
     "output_type": "display_data"
    }
   ],
   "source": [
    "sns.countplot(x=\"target\", data=df)\n",
    "plt.show()"
   ]
  },
  {
   "cell_type": "code",
   "execution_count": 9,
   "id": "informed-saskatchewan",
   "metadata": {
    "ExecuteTime": {
     "end_time": "2021-02-19T20:55:54.679641Z",
     "start_time": "2021-02-19T20:55:54.672362Z"
    }
   },
   "outputs": [
    {
     "data": {
      "text/plain": [
       "0    99.110812\n",
       "1     0.889188\n",
       "Name: target, dtype: float64"
      ]
     },
     "execution_count": 9,
     "metadata": {},
     "output_type": "execute_result"
    }
   ],
   "source": [
    "df[\"target\"].value_counts(normalize=True) * 100"
   ]
  },
  {
   "cell_type": "markdown",
   "id": "opening-appliance",
   "metadata": {},
   "source": [
    "**Baseline model** : 99.11%"
   ]
  },
  {
   "cell_type": "code",
   "execution_count": 10,
   "id": "dominant-plasma",
   "metadata": {
    "ExecuteTime": {
     "end_time": "2021-02-19T20:55:54.842935Z",
     "start_time": "2021-02-19T20:55:54.681958Z"
    }
   },
   "outputs": [],
   "source": [
    "X_train, X_test, y_train, y_test = train_test_split(df.drop(\n",
    "    labels=[\"target\"], axis=1), df[\"target\"], test_size=0.33, random_state=24)"
   ]
  },
  {
   "cell_type": "code",
   "execution_count": 11,
   "id": "distinguished-novelty",
   "metadata": {
    "ExecuteTime": {
     "end_time": "2021-02-19T20:55:54.848149Z",
     "start_time": "2021-02-19T20:55:54.844769Z"
    }
   },
   "outputs": [
    {
     "data": {
      "text/plain": [
       "((97653, 74), (48098, 74))"
      ]
     },
     "execution_count": 11,
     "metadata": {},
     "output_type": "execute_result"
    }
   ],
   "source": [
    "X_train.shape,X_test.shape"
   ]
  },
  {
   "cell_type": "code",
   "execution_count": 12,
   "id": "southwest-hungarian",
   "metadata": {
    "ExecuteTime": {
     "end_time": "2021-02-19T20:55:54.852707Z",
     "start_time": "2021-02-19T20:55:54.849722Z"
    }
   },
   "outputs": [],
   "source": [
    "y_train_base = pd.Series(np.zeros(len(y_train)))\n",
    "y_test_base = pd.Series(np.zeros(len(y_test)))"
   ]
  },
  {
   "cell_type": "markdown",
   "id": "dried-cemetery",
   "metadata": {},
   "source": [
    "## Training some ML Models"
   ]
  },
  {
   "cell_type": "code",
   "execution_count": 13,
   "id": "sunset-inventory",
   "metadata": {
    "ExecuteTime": {
     "end_time": "2021-02-19T20:55:55.990598Z",
     "start_time": "2021-02-19T20:55:54.854286Z"
    }
   },
   "outputs": [],
   "source": [
    "rf = RandomForestClassifier(n_jobs=-1, random_state=24, n_estimators=10)\n",
    "\n",
    "rf.fit(X_train, y_train)\n",
    "\n",
    "y_train_rf = rf.predict_proba(X_train)[:, 1]\n",
    "y_test_rf = rf.predict_proba(X_test)[:, 1]"
   ]
  },
  {
   "cell_type": "code",
   "execution_count": 79,
   "id": "documentary-state",
   "metadata": {
    "ExecuteTime": {
     "end_time": "2021-02-19T21:47:27.563082Z",
     "start_time": "2021-02-19T21:47:25.227614Z"
    }
   },
   "outputs": [],
   "source": [
    "sgd = SGDClassifier(random_state=24, max_iter=1000, loss=\"log\")\n",
    "\n",
    "sgd.fit(X_train, y_train)\n",
    "\n",
    "y_train_sgd = sgd.predict_proba(X_train)[:, 1]\n",
    "y_test_sgd = sgd.predict_proba(X_test)[:, 1]"
   ]
  },
  {
   "cell_type": "code",
   "execution_count": 27,
   "id": "italian-coach",
   "metadata": {
    "ExecuteTime": {
     "end_time": "2021-02-19T21:04:26.235976Z",
     "start_time": "2021-02-19T21:04:26.175017Z"
    }
   },
   "outputs": [
    {
     "name": "stdout",
     "output_type": "stream",
     "text": [
      "Accuracy baseline: 0.9912886190694\n",
      "Accuracy SGDClassifier: 0.9957586594037174\n",
      "Accuracy RandomForest: 0.9972971849141337\n"
     ]
    }
   ],
   "source": [
    "print(f\"Accuracy baseline: {accuracy_score(y_test,y_test_base)}\")\n",
    "print(f\"Accuracy SGDClassifier: {accuracy_score(y_test,sgd.predict(X_test))}\")\n",
    "print(f\"Accuracy RandomForest: {accuracy_score(y_test,rf.predict(X_test))}\")"
   ]
  },
  {
   "cell_type": "markdown",
   "id": "environmental-nudist",
   "metadata": {},
   "source": [
    "Super high accuracy but..."
   ]
  },
  {
   "cell_type": "code",
   "execution_count": 16,
   "id": "black-forth",
   "metadata": {
    "ExecuteTime": {
     "end_time": "2021-02-19T20:57:02.770185Z",
     "start_time": "2021-02-19T20:57:02.767602Z"
    }
   },
   "outputs": [],
   "source": [
    "def minority_perc(y_pred,y_true):\n",
    "    return np.mean(np.where((y_pred == 1) & (y_true ==1),1,0)) * 100"
   ]
  },
  {
   "cell_type": "code",
   "execution_count": 28,
   "id": "creative-subcommittee",
   "metadata": {
    "ExecuteTime": {
     "end_time": "2021-02-19T21:04:44.594429Z",
     "start_time": "2021-02-19T21:04:44.531983Z"
    }
   },
   "outputs": [
    {
     "name": "stdout",
     "output_type": "stream",
     "text": [
      "Minority class correclty classified baseline: 0.0\n",
      "Minority class correclty classified SGDClassifier: 0.6029356730009564\n",
      "Minority class correclty classified RandomForest: 0.4220549711006695\n"
     ]
    }
   ],
   "source": [
    "print(f\"Minority class correclty classified baseline: {minority_perc(y_test,y_test_base)}\")\n",
    "print(f\"Minority class correclty classified SGDClassifier: {minority_perc(y_test,y_test_sgd)}\")\n",
    "print(f\"Minority class correclty classified RandomForest: {minority_perc(y_test,y_test_rf)}\")"
   ]
  },
  {
   "cell_type": "markdown",
   "id": "fatty-qatar",
   "metadata": {},
   "source": [
    "... but only 42% of the observation in the minority class have been correctly classified."
   ]
  },
  {
   "cell_type": "markdown",
   "id": "careful-vessel",
   "metadata": {
    "heading_collapsed": true
   },
   "source": [
    "# Precision, Recall and F-Measure"
   ]
  },
  {
   "cell_type": "markdown",
   "id": "demographic-privacy",
   "metadata": {
    "hidden": true
   },
   "source": [
    "* True Positive Rate (Recall / sensitivity): TP(rate) = TP / TP+FN **- Minority Class**\n",
    "* True Negative Rate: TN(rate): TN(rate) = TN / TN + FP **- Majority Class**\n",
    "* Positive Predicted Value (Precision/specificity): PP(value) = TP / TP+FP **- Minority Class**\n",
    "* Negative Predicted Value: NP(value) = TN / TN+FN **- Majority Class**"
   ]
  },
  {
   "cell_type": "markdown",
   "id": "northern-inquiry",
   "metadata": {
    "hidden": true
   },
   "source": [
    "The best is to maximize both precision and recall, but sometimes it is not possible, so we have to tune the threshold we use to determine to which class belongs to the observation."
   ]
  },
  {
   "cell_type": "markdown",
   "id": "placed-genome",
   "metadata": {
    "hidden": true
   },
   "source": [
    "F1-Score (F-Measure) = 2 x (Precision x Recall) / (Precision + Recall)\n",
    "\n",
    "This is the weight harmonic mean of the precision and the recall. Optimizing this metric produces the best balance between the precision and the recall."
   ]
  },
  {
   "cell_type": "markdown",
   "id": "involved-moldova",
   "metadata": {
    "hidden": true
   },
   "source": [
    "Support refers to the actual number of occurences of a class in the dataset. It allows to highlight imbalanced datasets."
   ]
  },
  {
   "cell_type": "code",
   "execution_count": 20,
   "id": "banned-massage",
   "metadata": {
    "ExecuteTime": {
     "end_time": "2021-02-19T20:58:37.788191Z",
     "start_time": "2021-02-19T20:58:37.785672Z"
    },
    "hidden": true
   },
   "outputs": [],
   "source": [
    "from sklearn.metrics import (precision_score,\n",
    "                            recall_score,\n",
    "                            f1_score,\n",
    "                            )\n",
    "\n",
    "from yellowbrick.classifier import (ClassificationReport,\n",
    "                                   DiscriminationThreshold)"
   ]
  },
  {
   "cell_type": "markdown",
   "id": "fitted-privacy",
   "metadata": {
    "hidden": true
   },
   "source": [
    "## Precision"
   ]
  },
  {
   "cell_type": "code",
   "execution_count": 29,
   "id": "broad-audience",
   "metadata": {
    "ExecuteTime": {
     "end_time": "2021-02-19T21:05:00.855434Z",
     "start_time": "2021-02-19T21:05:00.770179Z"
    },
    "hidden": true
   },
   "outputs": [
    {
     "name": "stdout",
     "output_type": "stream",
     "text": [
      "Precision baseline: 0.0\n",
      "Precision SGDClassifier: 0.7945205479452054\n",
      "Precision RandomForest: 0.9800664451827242\n"
     ]
    },
    {
     "name": "stderr",
     "output_type": "stream",
     "text": [
      "/Users/alexandrecasula/opt/anaconda3/envs/ML/lib/python3.8/site-packages/sklearn/metrics/_classification.py:1221: UndefinedMetricWarning: Precision is ill-defined and being set to 0.0 due to no predicted samples. Use `zero_division` parameter to control this behavior.\n",
      "  _warn_prf(average, modifier, msg_start, len(result))\n"
     ]
    }
   ],
   "source": [
    "print(f\"Precision baseline: {precision_score(y_test,y_test_base)}\")\n",
    "print(f\"Precision SGDClassifier: {precision_score(y_test,sgd.predict(X_test))}\")\n",
    "print(f\"Precision RandomForest: {precision_score(y_test,rf.predict(X_test))}\")"
   ]
  },
  {
   "cell_type": "markdown",
   "id": "sweet-equality",
   "metadata": {
    "hidden": true
   },
   "source": [
    "## Recall"
   ]
  },
  {
   "cell_type": "code",
   "execution_count": 30,
   "id": "third-mauritius",
   "metadata": {
    "ExecuteTime": {
     "end_time": "2021-02-19T21:05:10.193536Z",
     "start_time": "2021-02-19T21:05:10.110985Z"
    },
    "hidden": true
   },
   "outputs": [
    {
     "name": "stdout",
     "output_type": "stream",
     "text": [
      "Recall baseline: 0.0\n",
      "Recall SGDClassifier: 0.7945205479452054\n",
      "Recall RandomForest: 0.7040572792362768\n"
     ]
    }
   ],
   "source": [
    "print(f\"Recall baseline: {recall_score(y_test,y_test_base)}\")\n",
    "print(f\"Recall SGDClassifier: {precision_score(y_test,sgd.predict(X_test))}\")\n",
    "print(f\"Recall RandomForest: {recall_score(y_test,rf.predict(X_test))}\")"
   ]
  },
  {
   "cell_type": "markdown",
   "id": "numerical-essex",
   "metadata": {
    "hidden": true
   },
   "source": [
    "## F1-Score"
   ]
  },
  {
   "cell_type": "code",
   "execution_count": 31,
   "id": "southern-profession",
   "metadata": {
    "ExecuteTime": {
     "end_time": "2021-02-19T21:05:26.178563Z",
     "start_time": "2021-02-19T21:05:26.121591Z"
    },
    "hidden": true
   },
   "outputs": [
    {
     "name": "stdout",
     "output_type": "stream",
     "text": [
      "F1 Score baseline: 0.0\n",
      "F1 Score SGDClassifier: 0.7945205479452054\n",
      "F1 Score RandomForest: 0.7397959183673469\n"
     ]
    }
   ],
   "source": [
    "print(f\"F1 Score baseline: {f1_score(y_test,y_test_base)}\")\n",
    "print(f\"F1 Score SGDClassifier: {precision_score(y_test,sgd.predict(X_test))}\")\n",
    "print(f\"F1 Score RandomForest: {f1_score(y_test,sgd.predict(X_test))}\")"
   ]
  },
  {
   "cell_type": "markdown",
   "id": "molecular-nothing",
   "metadata": {
    "hidden": true
   },
   "source": [
    "The LogisticRegession does a little bit better than the randomforest (with the default threshold at 0.5)."
   ]
  },
  {
   "cell_type": "markdown",
   "id": "level-express",
   "metadata": {
    "ExecuteTime": {
     "end_time": "2021-02-19T21:06:50.111006Z",
     "start_time": "2021-02-19T21:06:50.108900Z"
    },
    "hidden": true
   },
   "source": [
    "## Full classification report"
   ]
  },
  {
   "cell_type": "code",
   "execution_count": 34,
   "id": "final-asian",
   "metadata": {
    "ExecuteTime": {
     "end_time": "2021-02-19T21:07:47.276405Z",
     "start_time": "2021-02-19T21:07:47.036849Z"
    },
    "hidden": true
   },
   "outputs": [
    {
     "data": {
      "image/png": "[encoded data removed]",
      "text/plain": [
       "<Figure size 576x396 with 2 Axes>"
      ]
     },
     "metadata": {},
     "output_type": "display_data"
    }
   ],
   "source": [
    "visualizer = ClassificationReport(rf)\n",
    "\n",
    "visualizer.fit(X_train,y_train)\n",
    "visualizer.score(X_test,y_test)\n",
    "visualizer.show()\n",
    "plt.show()"
   ]
  },
  {
   "cell_type": "code",
   "execution_count": 35,
   "id": "located-meditation",
   "metadata": {
    "ExecuteTime": {
     "end_time": "2021-02-19T21:07:54.783333Z",
     "start_time": "2021-02-19T21:07:54.601104Z"
    },
    "hidden": true
   },
   "outputs": [
    {
     "data": {
      "image/png": "[encoded data removed]",
      "text/plain": [
       "<Figure size 576x396 with 2 Axes>"
      ]
     },
     "metadata": {},
     "output_type": "display_data"
    }
   ],
   "source": [
    "visualizer = ClassificationReport(sgd)\n",
    "\n",
    "visualizer.fit(X_train,y_train)\n",
    "visualizer.score(X_test,y_test)\n",
    "visualizer.show()\n",
    "plt.show()"
   ]
  },
  {
   "cell_type": "code",
   "execution_count": 49,
   "id": "aerial-chester",
   "metadata": {
    "ExecuteTime": {
     "end_time": "2021-02-19T21:16:27.455874Z",
     "start_time": "2021-02-19T21:16:25.957402Z"
    },
    "hidden": true
   },
   "outputs": [
    {
     "name": "stderr",
     "output_type": "stream",
     "text": [
      "/Users/alexandrecasula/opt/anaconda3/envs/ML/lib/python3.8/site-packages/sklearn/utils/deprecation.py:86: FutureWarning: Function safe_indexing is deprecated; safe_indexing is deprecated in version 0.22 and will be removed in version 0.24.\n",
      "  warnings.warn(msg, category=FutureWarning)\n"
     ]
    },
    {
     "data": {
      "image/png": "[encoded data removed]",
      "text/plain": [
       "<Figure size 1080x720 with 1 Axes>"
      ]
     },
     "metadata": {},
     "output_type": "display_data"
    }
   ],
   "source": [
    "visualizer = DiscriminationThreshold(sgd,\n",
    "                                     n_trials=1,# 1 to speed up process but can be higher to reduce the error.\n",
    "                                     cv=0.1,\n",
    "                                     argmax='fscore',\n",
    "                                     random_state=23,\n",
    "                                     is_fitted='auto',\n",
    "                                     exclude=\"queue_rate\"\n",
    "                                     )\n",
    "\n",
    "plt.figure(figsize=(15,10))\n",
    "visualizer.fit(X_train, y_train)\n",
    "visualizer.score(X_test, y_test)\n",
    "visualizer.show()\n",
    "plt.show()"
   ]
  },
  {
   "cell_type": "markdown",
   "id": "prime-injury",
   "metadata": {
    "hidden": true
   },
   "source": [
    "0.33 seems to be the perfect threshold in this case for optimizing the f1 score."
   ]
  },
  {
   "cell_type": "markdown",
   "id": "ambient-future",
   "metadata": {},
   "source": [
    "# Confusion matrix, FPR and FNP"
   ]
  },
  {
   "cell_type": "markdown",
   "id": "cosmetic-prefix",
   "metadata": {},
   "source": [
    "A confusion matrix is a matrix of the instances that are correctly and incorrectly classified.\n",
    "False Positive Rate: FP(rate) = FP / FP + TN --> How many observations from the majority class have been classified wrongly? (Type 2 Error)\n",
    "False Negative Rate: FN(rate) = FN / FN + TP --> How many observations from the minority class have been classified wrongly? (Type 1 Error)\n",
    "\n",
    "We try to minize both of them, and they all depend on the probability threshold.\n",
    "\n",
    "Example:\n",
    "* Minimize FPR: We want to minimize the number of people that are sick but are not diagnosed sick.\n",
    "* Minimize FNR: We want to minimize the number of drugs that are predicted beneficial, but are not."
   ]
  },
  {
   "cell_type": "code",
   "execution_count": 50,
   "id": "false-graduate",
   "metadata": {
    "ExecuteTime": {
     "end_time": "2021-02-19T21:28:32.983319Z",
     "start_time": "2021-02-19T21:28:32.980801Z"
    }
   },
   "outputs": [],
   "source": [
    "from sklearn.metrics import confusion_matrix"
   ]
  },
  {
   "cell_type": "markdown",
   "id": "uniform-whole",
   "metadata": {},
   "source": [
    "## Confusion Matrix"
   ]
  },
  {
   "cell_type": "markdown",
   "id": "valued-persian",
   "metadata": {},
   "source": [
    "### Baseline"
   ]
  },
  {
   "cell_type": "code",
   "execution_count": 54,
   "id": "unsigned-blood",
   "metadata": {
    "ExecuteTime": {
     "end_time": "2021-02-19T21:29:30.475963Z",
     "start_time": "2021-02-19T21:29:30.337132Z"
    }
   },
   "outputs": [
    {
     "data": {
      "text/html": [
       "<div>\n",
       "<style scoped>\n",
       "    .dataframe tbody tr th:only-of-type {\n",
       "        vertical-align: middle;\n",
       "    }\n",
       "\n",
       "    .dataframe tbody tr th {\n",
       "        vertical-align: top;\n",
       "    }\n",
       "\n",
       "    .dataframe thead th {\n",
       "        text-align: right;\n",
       "    }\n",
       "</style>\n",
       "<table border=\"1\" class=\"dataframe\">\n",
       "  <thead>\n",
       "    <tr style=\"text-align: right;\">\n",
       "      <th></th>\n",
       "      <th>0</th>\n",
       "      <th>1</th>\n",
       "    </tr>\n",
       "  </thead>\n",
       "  <tbody>\n",
       "    <tr>\n",
       "      <th>0</th>\n",
       "      <td>47679</td>\n",
       "      <td>0</td>\n",
       "    </tr>\n",
       "    <tr>\n",
       "      <th>1</th>\n",
       "      <td>419</td>\n",
       "      <td>0</td>\n",
       "    </tr>\n",
       "  </tbody>\n",
       "</table>\n",
       "</div>"
      ],
      "text/plain": [
       "       0  1\n",
       "0  47679  0\n",
       "1    419  0"
      ]
     },
     "execution_count": 54,
     "metadata": {},
     "output_type": "execute_result"
    }
   ],
   "source": [
    "pd.DataFrame(confusion_matrix(y_test,y_test_base))"
   ]
  },
  {
   "cell_type": "markdown",
   "id": "marked-history",
   "metadata": {},
   "source": [
    "### Random Forest"
   ]
  },
  {
   "cell_type": "code",
   "execution_count": 56,
   "id": "operational-florist",
   "metadata": {
    "ExecuteTime": {
     "end_time": "2021-02-19T21:30:00.268425Z",
     "start_time": "2021-02-19T21:30:00.200736Z"
    }
   },
   "outputs": [
    {
     "data": {
      "text/html": [
       "<div>\n",
       "<style scoped>\n",
       "    .dataframe tbody tr th:only-of-type {\n",
       "        vertical-align: middle;\n",
       "    }\n",
       "\n",
       "    .dataframe tbody tr th {\n",
       "        vertical-align: top;\n",
       "    }\n",
       "\n",
       "    .dataframe thead th {\n",
       "        text-align: right;\n",
       "    }\n",
       "</style>\n",
       "<table border=\"1\" class=\"dataframe\">\n",
       "  <thead>\n",
       "    <tr style=\"text-align: right;\">\n",
       "      <th></th>\n",
       "      <th>0</th>\n",
       "      <th>1</th>\n",
       "    </tr>\n",
       "  </thead>\n",
       "  <tbody>\n",
       "    <tr>\n",
       "      <th>0</th>\n",
       "      <td>47673</td>\n",
       "      <td>6</td>\n",
       "    </tr>\n",
       "    <tr>\n",
       "      <th>1</th>\n",
       "      <td>124</td>\n",
       "      <td>295</td>\n",
       "    </tr>\n",
       "  </tbody>\n",
       "</table>\n",
       "</div>"
      ],
      "text/plain": [
       "       0    1\n",
       "0  47673    6\n",
       "1    124  295"
      ]
     },
     "execution_count": 56,
     "metadata": {},
     "output_type": "execute_result"
    }
   ],
   "source": [
    "pd.DataFrame(confusion_matrix(y_test,rf.predict(X_test)))"
   ]
  },
  {
   "cell_type": "markdown",
   "id": "informal-wales",
   "metadata": {},
   "source": [
    "### LogisticRegression"
   ]
  },
  {
   "cell_type": "code",
   "execution_count": 58,
   "id": "continuous-mining",
   "metadata": {
    "ExecuteTime": {
     "end_time": "2021-02-19T21:30:30.996041Z",
     "start_time": "2021-02-19T21:30:30.941982Z"
    },
    "scrolled": true
   },
   "outputs": [
    {
     "data": {
      "text/html": [
       "<div>\n",
       "<style scoped>\n",
       "    .dataframe tbody tr th:only-of-type {\n",
       "        vertical-align: middle;\n",
       "    }\n",
       "\n",
       "    .dataframe tbody tr th {\n",
       "        vertical-align: top;\n",
       "    }\n",
       "\n",
       "    .dataframe thead th {\n",
       "        text-align: right;\n",
       "    }\n",
       "</style>\n",
       "<table border=\"1\" class=\"dataframe\">\n",
       "  <thead>\n",
       "    <tr style=\"text-align: right;\">\n",
       "      <th></th>\n",
       "      <th>0</th>\n",
       "      <th>1</th>\n",
       "    </tr>\n",
       "  </thead>\n",
       "  <tbody>\n",
       "    <tr>\n",
       "      <th>0</th>\n",
       "      <td>47604</td>\n",
       "      <td>75</td>\n",
       "    </tr>\n",
       "    <tr>\n",
       "      <th>1</th>\n",
       "      <td>129</td>\n",
       "      <td>290</td>\n",
       "    </tr>\n",
       "  </tbody>\n",
       "</table>\n",
       "</div>"
      ],
      "text/plain": [
       "       0    1\n",
       "0  47604   75\n",
       "1    129  290"
      ]
     },
     "execution_count": 58,
     "metadata": {},
     "output_type": "execute_result"
    }
   ],
   "source": [
    "pd.DataFrame(confusion_matrix(y_test,sgd.predict(X_test)))"
   ]
  },
  {
   "cell_type": "markdown",
   "id": "thirty-cricket",
   "metadata": {},
   "source": [
    "## FPR and FNR"
   ]
  },
  {
   "cell_type": "code",
   "execution_count": 67,
   "id": "honey-ultimate",
   "metadata": {
    "ExecuteTime": {
     "end_time": "2021-02-19T21:38:46.264992Z",
     "start_time": "2021-02-19T21:38:46.141611Z"
    }
   },
   "outputs": [
    {
     "name": "stdout",
     "output_type": "stream",
     "text": [
      "FPR Baseline: 0.0\n",
      "FNR Baseline: 1.0\n"
     ]
    }
   ],
   "source": [
    "tn, fp, fn, tp = confusion_matrix(y_test,y_test_base,labels=[0,1]).ravel()\n",
    "\n",
    "FPR = fp / (fp + tn)\n",
    "FNR = fn / (fn + tp)\n",
    "\n",
    "print(f\"FPR Baseline: {FPR}\")\n",
    "print(f\"FNR Baseline: {FNR}\")"
   ]
  },
  {
   "cell_type": "markdown",
   "id": "fifth-congo",
   "metadata": {},
   "source": [
    "FPR 0 because the model didn't identify any positive example as positive and the FNR is 1 because it classifies all the observations from the positive class incorrectly."
   ]
  },
  {
   "cell_type": "code",
   "execution_count": 68,
   "id": "lightweight-philosophy",
   "metadata": {
    "ExecuteTime": {
     "end_time": "2021-02-19T21:38:47.483130Z",
     "start_time": "2021-02-19T21:38:47.417819Z"
    }
   },
   "outputs": [
    {
     "name": "stdout",
     "output_type": "stream",
     "text": [
      "FPR Baseline: 0.00012584156546907444\n",
      "FNR Baseline: 0.29594272076372313\n"
     ]
    }
   ],
   "source": [
    "tn, fp, fn, tp = confusion_matrix(y_test,rf.predict(X_test),labels=[0,1]).ravel()\n",
    "\n",
    "FPR = fp / (fp + tn)\n",
    "FNR = fn / (fn + tp)\n",
    "\n",
    "print(f\"FPR Baseline: {FPR}\")\n",
    "print(f\"FNR Baseline: {FNR}\")"
   ]
  },
  {
   "cell_type": "code",
   "execution_count": 69,
   "id": "dangerous-quarterly",
   "metadata": {
    "ExecuteTime": {
     "end_time": "2021-02-19T21:38:49.191393Z",
     "start_time": "2021-02-19T21:38:49.145106Z"
    }
   },
   "outputs": [
    {
     "name": "stdout",
     "output_type": "stream",
     "text": [
      "FPR Baseline: 0.0015730195683634305\n",
      "FNR Baseline: 0.30787589498806683\n"
     ]
    }
   ],
   "source": [
    "tn, fp, fn, tp = confusion_matrix(y_test,sgd.predict(X_test),labels=[0,1]).ravel()\n",
    "\n",
    "FPR = fp / (fp + tn)\n",
    "FNR = fn / (fn + tp)\n",
    "\n",
    "print(f\"FPR Baseline: {FPR}\")\n",
    "print(f\"FNR Baseline: {FNR}\")"
   ]
  },
  {
   "cell_type": "markdown",
   "id": "surprised-business",
   "metadata": {},
   "source": [
    "## FPR and FNR vs Probability Threshold"
   ]
  },
  {
   "cell_type": "code",
   "execution_count": 70,
   "id": "vocal-departure",
   "metadata": {
    "ExecuteTime": {
     "end_time": "2021-02-19T21:41:03.486041Z",
     "start_time": "2021-02-19T21:41:03.483474Z"
    }
   },
   "outputs": [],
   "source": [
    "thresholds = np.linspace(0,1,100)"
   ]
  },
  {
   "cell_type": "code",
   "execution_count": 71,
   "id": "elegant-participation",
   "metadata": {
    "ExecuteTime": {
     "end_time": "2021-02-19T21:41:05.946616Z",
     "start_time": "2021-02-19T21:41:05.942378Z"
    }
   },
   "outputs": [
    {
     "data": {
      "text/plain": [
       "array([0.        , 0.01010101, 0.02020202, 0.03030303, 0.04040404,\n",
       "       0.05050505, 0.06060606, 0.07070707, 0.08080808, 0.09090909,\n",
       "       0.1010101 , 0.11111111, 0.12121212, 0.13131313, 0.14141414,\n",
       "       0.15151515, 0.16161616, 0.17171717, 0.18181818, 0.19191919,\n",
       "       0.2020202 , 0.21212121, 0.22222222, 0.23232323, 0.24242424,\n",
       "       0.25252525, 0.26262626, 0.27272727, 0.28282828, 0.29292929,\n",
       "       0.3030303 , 0.31313131, 0.32323232, 0.33333333, 0.34343434,\n",
       "       0.35353535, 0.36363636, 0.37373737, 0.38383838, 0.39393939,\n",
       "       0.4040404 , 0.41414141, 0.42424242, 0.43434343, 0.44444444,\n",
       "       0.45454545, 0.46464646, 0.47474747, 0.48484848, 0.49494949,\n",
       "       0.50505051, 0.51515152, 0.52525253, 0.53535354, 0.54545455,\n",
       "       0.55555556, 0.56565657, 0.57575758, 0.58585859, 0.5959596 ,\n",
       "       0.60606061, 0.61616162, 0.62626263, 0.63636364, 0.64646465,\n",
       "       0.65656566, 0.66666667, 0.67676768, 0.68686869, 0.6969697 ,\n",
       "       0.70707071, 0.71717172, 0.72727273, 0.73737374, 0.74747475,\n",
       "       0.75757576, 0.76767677, 0.77777778, 0.78787879, 0.7979798 ,\n",
       "       0.80808081, 0.81818182, 0.82828283, 0.83838384, 0.84848485,\n",
       "       0.85858586, 0.86868687, 0.87878788, 0.88888889, 0.8989899 ,\n",
       "       0.90909091, 0.91919192, 0.92929293, 0.93939394, 0.94949495,\n",
       "       0.95959596, 0.96969697, 0.97979798, 0.98989899, 1.        ])"
      ]
     },
     "execution_count": 71,
     "metadata": {},
     "output_type": "execute_result"
    }
   ],
   "source": [
    "thresholds"
   ]
  },
  {
   "cell_type": "code",
   "execution_count": 83,
   "id": "amber-garbage",
   "metadata": {
    "ExecuteTime": {
     "end_time": "2021-02-19T21:47:52.023080Z",
     "start_time": "2021-02-19T21:47:49.656727Z"
    }
   },
   "outputs": [],
   "source": [
    "fpr_ls = []\n",
    "fnr_ls = []\n",
    "\n",
    "prob = sgd.predict_proba(X_test)[:, 1]\n",
    "\n",
    "for threshold in thresholds:\n",
    "\n",
    "    # Class from the threshold\n",
    "    preds = np.where(prob >= threshold, 1, 0)\n",
    "\n",
    "    tn, fp, fn, tp = confusion_matrix(y_test, preds, labels=[0, 1]).ravel()\n",
    "\n",
    "    FPR = fp / (fp + tn)\n",
    "    FNR = fn / (fn + tp)\n",
    "\n",
    "    fpr_ls.append(FPR)\n",
    "    fnr_ls.append(FNR)\n",
    "\n",
    "metrics = pd.concat([pd.Series(fpr_ls), pd.Series(fnr_ls)], axis=1)"
   ]
  },
  {
   "cell_type": "code",
   "execution_count": 84,
   "id": "meaningful-exhibit",
   "metadata": {
    "ExecuteTime": {
     "end_time": "2021-02-19T21:47:52.364921Z",
     "start_time": "2021-02-19T21:47:52.362433Z"
    }
   },
   "outputs": [],
   "source": [
    "metrics.columns = [\"fpr\",\"fnr\"]\n",
    "metrics.index = thresholds"
   ]
  },
  {
   "cell_type": "code",
   "execution_count": 85,
   "id": "portable-barrel",
   "metadata": {
    "ExecuteTime": {
     "end_time": "2021-02-19T21:47:52.679297Z",
     "start_time": "2021-02-19T21:47:52.673016Z"
    }
   },
   "outputs": [
    {
     "data": {
      "text/html": [
       "<div>\n",
       "<style scoped>\n",
       "    .dataframe tbody tr th:only-of-type {\n",
       "        vertical-align: middle;\n",
       "    }\n",
       "\n",
       "    .dataframe tbody tr th {\n",
       "        vertical-align: top;\n",
       "    }\n",
       "\n",
       "    .dataframe thead th {\n",
       "        text-align: right;\n",
       "    }\n",
       "</style>\n",
       "<table border=\"1\" class=\"dataframe\">\n",
       "  <thead>\n",
       "    <tr style=\"text-align: right;\">\n",
       "      <th></th>\n",
       "      <th>fpr</th>\n",
       "      <th>fnr</th>\n",
       "    </tr>\n",
       "  </thead>\n",
       "  <tbody>\n",
       "    <tr>\n",
       "      <th>0.000000</th>\n",
       "      <td>1.000000</td>\n",
       "      <td>0.000000</td>\n",
       "    </tr>\n",
       "    <tr>\n",
       "      <th>0.010101</th>\n",
       "      <td>0.001615</td>\n",
       "      <td>0.307876</td>\n",
       "    </tr>\n",
       "    <tr>\n",
       "      <th>0.020202</th>\n",
       "      <td>0.001594</td>\n",
       "      <td>0.307876</td>\n",
       "    </tr>\n",
       "    <tr>\n",
       "      <th>0.030303</th>\n",
       "      <td>0.001594</td>\n",
       "      <td>0.307876</td>\n",
       "    </tr>\n",
       "    <tr>\n",
       "      <th>0.040404</th>\n",
       "      <td>0.001594</td>\n",
       "      <td>0.307876</td>\n",
       "    </tr>\n",
       "  </tbody>\n",
       "</table>\n",
       "</div>"
      ],
      "text/plain": [
       "               fpr       fnr\n",
       "0.000000  1.000000  0.000000\n",
       "0.010101  0.001615  0.307876\n",
       "0.020202  0.001594  0.307876\n",
       "0.030303  0.001594  0.307876\n",
       "0.040404  0.001594  0.307876"
      ]
     },
     "execution_count": 85,
     "metadata": {},
     "output_type": "execute_result"
    }
   ],
   "source": [
    "metrics.head()"
   ]
  },
  {
   "cell_type": "code",
   "execution_count": 93,
   "id": "express-comparative",
   "metadata": {
    "ExecuteTime": {
     "end_time": "2021-02-19T21:49:50.480607Z",
     "start_time": "2021-02-19T21:49:50.295649Z"
    }
   },
   "outputs": [
    {
     "data": {
      "text/plain": [
       "<Figure size 864x720 with 0 Axes>"
      ]
     },
     "metadata": {},
     "output_type": "display_data"
    },
    {
     "data": {
      "image/png": "[encoded data removed]",
      "text/plain": [
       "<Figure size 576x396 with 1 Axes>"
      ]
     },
     "metadata": {},
     "output_type": "display_data"
    }
   ],
   "source": [
    "plt.figure(figsize=(12,10))\n",
    "metrics.plot()\n",
    "plt.xlabel(\"probability Threshold\")\n",
    "plt.ylabel(\"fpr / fnr\")\n",
    "plt.title(\"fpr / fnr vs Discriminant Threshold\")\n",
    "plt.show()"
   ]
  },
  {
   "cell_type": "markdown",
   "id": "liberal-dating",
   "metadata": {
    "heading_collapsed": true
   },
   "source": [
    "# Geometric Means, Dominance, Index of Imbalance Accuracy"
   ]
  },
  {
   "cell_type": "code",
   "execution_count": null,
   "id": "controlling-thermal",
   "metadata": {
    "hidden": true
   },
   "outputs": [],
   "source": []
  },
  {
   "cell_type": "code",
   "execution_count": null,
   "id": "solid-ocean",
   "metadata": {
    "hidden": true
   },
   "outputs": [],
   "source": []
  },
  {
   "cell_type": "code",
   "execution_count": null,
   "id": "environmental-barcelona",
   "metadata": {
    "hidden": true
   },
   "outputs": [],
   "source": []
  },
  {
   "cell_type": "code",
   "execution_count": null,
   "id": "concrete-macedonia",
   "metadata": {
    "hidden": true
   },
   "outputs": [],
   "source": []
  },
  {
   "cell_type": "code",
   "execution_count": null,
   "id": "linear-backup",
   "metadata": {
    "hidden": true
   },
   "outputs": [],
   "source": []
  },
  {
   "cell_type": "code",
   "execution_count": null,
   "id": "temporal-tsunami",
   "metadata": {
    "hidden": true
   },
   "outputs": [],
   "source": []
  },
  {
   "cell_type": "code",
   "execution_count": null,
   "id": "solved-drilling",
   "metadata": {
    "hidden": true
   },
   "outputs": [],
   "source": []
  },
  {
   "cell_type": "code",
   "execution_count": null,
   "id": "piano-bargain",
   "metadata": {
    "hidden": true
   },
   "outputs": [],
   "source": []
  },
  {
   "cell_type": "code",
   "execution_count": null,
   "id": "decreased-orlando",
   "metadata": {
    "hidden": true
   },
   "outputs": [],
   "source": []
  },
  {
   "cell_type": "code",
   "execution_count": null,
   "id": "different-village",
   "metadata": {
    "hidden": true
   },
   "outputs": [],
   "source": []
  },
  {
   "cell_type": "code",
   "execution_count": null,
   "id": "threatened-flash",
   "metadata": {
    "hidden": true
   },
   "outputs": [],
   "source": []
  },
  {
   "cell_type": "code",
   "execution_count": null,
   "id": "gentle-annotation",
   "metadata": {
    "hidden": true
   },
   "outputs": [],
   "source": []
  },
  {
   "cell_type": "code",
   "execution_count": null,
   "id": "anticipated-assistant",
   "metadata": {
    "hidden": true
   },
   "outputs": [],
   "source": []
  },
  {
   "cell_type": "code",
   "execution_count": null,
   "id": "affected-moisture",
   "metadata": {
    "hidden": true
   },
   "outputs": [],
   "source": []
  },
  {
   "cell_type": "markdown",
   "id": "fitting-bangladesh",
   "metadata": {
    "heading_collapsed": true
   },
   "source": [
    "# ROC-AUC"
   ]
  },
  {
   "cell_type": "code",
   "execution_count": null,
   "id": "rolled-father",
   "metadata": {
    "hidden": true
   },
   "outputs": [],
   "source": []
  },
  {
   "cell_type": "code",
   "execution_count": null,
   "id": "quarterly-hostel",
   "metadata": {
    "hidden": true
   },
   "outputs": [],
   "source": []
  },
  {
   "cell_type": "code",
   "execution_count": null,
   "id": "known-worthy",
   "metadata": {
    "hidden": true
   },
   "outputs": [],
   "source": []
  },
  {
   "cell_type": "code",
   "execution_count": null,
   "id": "industrial-greece",
   "metadata": {
    "hidden": true
   },
   "outputs": [],
   "source": []
  },
  {
   "cell_type": "code",
   "execution_count": null,
   "id": "million-convertible",
   "metadata": {
    "hidden": true
   },
   "outputs": [],
   "source": []
  },
  {
   "cell_type": "code",
   "execution_count": null,
   "id": "institutional-location",
   "metadata": {
    "hidden": true
   },
   "outputs": [],
   "source": []
  },
  {
   "cell_type": "code",
   "execution_count": null,
   "id": "demographic-ridge",
   "metadata": {
    "hidden": true
   },
   "outputs": [],
   "source": []
  },
  {
   "cell_type": "code",
   "execution_count": null,
   "id": "rising-methodology",
   "metadata": {
    "hidden": true
   },
   "outputs": [],
   "source": []
  },
  {
   "cell_type": "code",
   "execution_count": null,
   "id": "armed-assignment",
   "metadata": {
    "hidden": true
   },
   "outputs": [],
   "source": []
  },
  {
   "cell_type": "code",
   "execution_count": null,
   "id": "classical-recorder",
   "metadata": {
    "hidden": true
   },
   "outputs": [],
   "source": []
  },
  {
   "cell_type": "code",
   "execution_count": null,
   "id": "coordinate-neutral",
   "metadata": {
    "hidden": true
   },
   "outputs": [],
   "source": []
  },
  {
   "cell_type": "code",
   "execution_count": null,
   "id": "developing-manitoba",
   "metadata": {
    "hidden": true
   },
   "outputs": [],
   "source": []
  },
  {
   "cell_type": "code",
   "execution_count": null,
   "id": "motivated-example",
   "metadata": {
    "hidden": true
   },
   "outputs": [],
   "source": []
  },
  {
   "cell_type": "code",
   "execution_count": null,
   "id": "champion-three",
   "metadata": {
    "hidden": true
   },
   "outputs": [],
   "source": []
  },
  {
   "cell_type": "markdown",
   "id": "warming-lindsay",
   "metadata": {},
   "source": [
    "# Precision-Recall Curve"
   ]
  },
  {
   "cell_type": "code",
   "execution_count": null,
   "id": "unauthorized-spain",
   "metadata": {},
   "outputs": [],
   "source": []
  },
  {
   "cell_type": "code",
   "execution_count": null,
   "id": "hired-sheriff",
   "metadata": {},
   "outputs": [],
   "source": []
  },
  {
   "cell_type": "code",
   "execution_count": null,
   "id": "velvet-investigation",
   "metadata": {},
   "outputs": [],
   "source": []
  },
  {
   "cell_type": "code",
   "execution_count": null,
   "id": "specific-agent",
   "metadata": {},
   "outputs": [],
   "source": []
  },
  {
   "cell_type": "code",
   "execution_count": null,
   "id": "foreign-rochester",
   "metadata": {},
   "outputs": [],
   "source": []
  },
  {
   "cell_type": "code",
   "execution_count": null,
   "id": "funky-latino",
   "metadata": {},
   "outputs": [],
   "source": []
  },
  {
   "cell_type": "code",
   "execution_count": null,
   "id": "roman-desert",
   "metadata": {},
   "outputs": [],
   "source": []
  },
  {
   "cell_type": "code",
   "execution_count": null,
   "id": "suitable-staff",
   "metadata": {},
   "outputs": [],
   "source": []
  },
  {
   "cell_type": "code",
   "execution_count": null,
   "id": "functional-leeds",
   "metadata": {},
   "outputs": [],
   "source": []
  },
  {
   "cell_type": "code",
   "execution_count": null,
   "id": "inside-review",
   "metadata": {},
   "outputs": [],
   "source": []
  },
  {
   "cell_type": "code",
   "execution_count": null,
   "id": "favorite-weapon",
   "metadata": {},
   "outputs": [],
   "source": []
  },
  {
   "cell_type": "code",
   "execution_count": null,
   "id": "modified-hollow",
   "metadata": {},
   "outputs": [],
   "source": []
  },
  {
   "cell_type": "code",
   "execution_count": null,
   "id": "variable-motel",
   "metadata": {},
   "outputs": [],
   "source": []
  }
 ],
 "metadata": {
  "hide_input": false,
  "kernelspec": {
   "display_name": "Python 3",
   "language": "python",
   "name": "python3"
  },
  "language_info": {
   "codemirror_mode": {
    "name": "ipython",
    "version": 3
   },
   "file_extension": ".py",
   "mimetype": "text/x-python",
   "name": "python",
   "nbconvert_exporter": "python",
   "pygments_lexer": "ipython3",
   "version": "3.8.5"
  },
  "toc": {
   "base_numbering": 1,
   "nav_menu": {},
   "number_sections": true,
   "sideBar": true,
   "skip_h1_title": false,
   "title_cell": "Table of Contents",
   "title_sidebar": "Contents",
   "toc_cell": false,
   "toc_position": {},
   "toc_section_display": true,
   "toc_window_display": false
  },
  "varInspector": {
   "cols": {
    "lenName": 16,
    "lenType": 16,
    "lenVar": 40
   },
   "kernels_config": {
    "python": {
     "delete_cmd_postfix": "",
     "delete_cmd_prefix": "del ",
     "library": "var_list.py",
     "varRefreshCmd": "print(var_dic_list())"
    },
    "r": {
     "delete_cmd_postfix": ") ",
     "delete_cmd_prefix": "rm(",
     "library": "var_list.r",
     "varRefreshCmd": "cat(var_dic_list()) "
    }
   },
   "types_to_exclude": [
    "module",
    "function",
    "builtin_function_or_method",
    "instance",
    "_Feature"
   ],
   "window_display": false
  }
 },
 "nbformat": 4,
 "nbformat_minor": 5
}
