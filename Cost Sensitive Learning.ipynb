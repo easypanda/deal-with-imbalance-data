{
 "cells": [
  {
   "cell_type": "markdown",
   "id": "outside-director",
   "metadata": {},
   "source": [
    "# Cost Sensitive Learning"
   ]
  },
  {
   "cell_type": "markdown",
   "id": "exotic-receipt",
   "metadata": {},
   "source": [
    "Most classification algorithms assume that misclassification errors cost are equal when it is not the same. For instance, misclassifying a sick person as healthy is more costly than otherwise (because of the lack of treatment the person might get) or misclassifying a fraudulent claim costs more than misclassifying a legitimate claim.\n",
    "\n",
    "Cost Sensitive Learning (CSL) is a type of learning that takes misclassification costs into account. The goal is not to reduce the error rate (i.e. the accuracy for example), but to minimize the total misclassification cost hence why CSL treats misclassification differently.\n",
    "\n",
    "Cost-insensitive:\n",
    "* Minimise error rate\n",
    "* Same cost to all misclassification\n",
    "\n",
    "Cost-sensitive:\n",
    "* Minimise cost\n",
    "* Different misclassification costs\n",
    "\n",
    "Cost Matrix looks like a confusion matrix but the cost is added. Standard machine learning models use a 0-1 loss funcition, which assigns a cost of 0 to a correctly classified observation and cost 1 to an incorrectly classified one. Cost-sensitive learning applies different costs to different classification errors."
   ]
  },
  {
   "cell_type": "markdown",
   "id": "hairy-manufacturer",
   "metadata": {},
   "source": [
    "# Type of Costs"
   ]
  },
  {
   "cell_type": "markdown",
   "id": "linear-hungarian",
   "metadata": {},
   "source": [
    "The classic machine learning algorithms uses Constant Error Cost.\n",
    "\n",
    "Conditional Cost refers to the cost of a misclassification error regarding the circumstances. It depends on the nature of the case / observation. It won't be the same for a fraud (where it depends how much money are involved in the application) or a medical diagnosis (depends on the diseases and the patients). Costs can also depend on time, like for sensor defect detection, where time of detection is important.\n",
    "\n",
    "A potential solution is to expand the classification target, by adding one or more targets (Healthy, sick and young, sick and elderly or defect now / defect in a week / defect in a month / no defect, etc.).\n",
    "\n",
    "Cost of test or feature, like acquiring variables from 3rd parties in finance or cost of carrying out the tests in medicine.\n",
    "\n",
    "Cost of teacher or intervention (or professional costs), like in finance cost of fraud investigators, in medicine cost of a professional etc.\n",
    "\n",
    "Computational cost, like data storage, time to train models, etc.\n",
    "\n",
    "Data Cost, to acquired the data, to label the data, etc.\n",
    "\n",
    "Human - Computer Cost which are the costs associated acquiring the data and building the models, like data analyts, engineers, domain experts, etc."
   ]
  },
  {
   "cell_type": "markdown",
   "id": "different-theorem",
   "metadata": {},
   "source": [
    "# Obtaining the Costs "
   ]
  },
  {
   "cell_type": "markdown",
   "id": "usual-establishment",
   "metadata": {},
   "source": [
    "The effectiveness of CSL relies on the supplied cost matrix.\n",
    "\n",
    "Low cost will not find the proper classification boundary by being biased towards the majority class.\n",
    "\n",
    "High cost may impair generalization by being unable to predict well the majority classes.\n",
    "\n",
    "We can determine cost by having a cost matrix provided by expert (domain xpert to determine real costs) or we use heuristic approach, using the data, using the imbalance ratio or by optimisation.\n",
    "\n",
    "But we must take into account factors that influence the abitility of a classifier to identify rare events (small sample size, class separability, within-class sub-clusters)."
   ]
  },
  {
   "cell_type": "markdown",
   "id": "exact-witness",
   "metadata": {},
   "source": [
    "# Cost Sensitive Approaches"
   ]
  },
  {
   "cell_type": "markdown",
   "id": "referenced-billion",
   "metadata": {},
   "source": [
    "Cost Sensitive Learning (CSL) can be separated into two approaches:\n",
    "\n",
    "* Direct approaches:\n",
    "    * Misclassification cost into the training of a classifier.\n",
    "* Meta-learning:\n",
    "    * Pre-processing (Under-sampling and over-sampling)\n",
    "    * Post-processing (modify the outputs of a classifier)"
   ]
  },
  {
   "cell_type": "markdown",
   "id": "requested-candle",
   "metadata": {},
   "source": [
    "## Cost Sensitive Learning with Scikit-Learn"
   ]
  },
  {
   "cell_type": "markdown",
   "id": "experienced-domestic",
   "metadata": {},
   "source": [
    "There are two ways to include cost into scikit-learn:\n",
    "* A class_weight parameter for estimators that allow it\n",
    "* With a sample_weight vector with the weights for every single observation when we fit the estimator.\n",
    "\n",
    "We shouldn't apply both class_weight and sample_weight together as the final penalty will be a combinaison of the two."
   ]
  },
  {
   "cell_type": "code",
   "execution_count": 1,
   "id": "bibliographic-estonia",
   "metadata": {
    "ExecuteTime": {
     "end_time": "2021-03-01T14:47:24.204450Z",
     "start_time": "2021-03-01T14:47:24.201910Z"
    }
   },
   "outputs": [],
   "source": [
    "from sklearn.utils.testing import all_estimators"
   ]
  },
  {
   "cell_type": "code",
   "execution_count": 2,
   "id": "boolean-canadian",
   "metadata": {
    "ExecuteTime": {
     "end_time": "2021-03-01T14:48:35.895518Z",
     "start_time": "2021-03-01T14:48:35.507598Z"
    }
   },
   "outputs": [
    {
     "name": "stdout",
     "output_type": "stream",
     "text": [
      "DecisionTreeClassifier\n",
      "ExtraTreeClassifier\n",
      "ExtraTreesClassifier\n",
      "LinearSVC\n",
      "LogisticRegression\n",
      "LogisticRegressionCV\n",
      "NuSVC\n",
      "PassiveAggressiveClassifier\n",
      "Perceptron\n",
      "RandomForestClassifier\n",
      "RidgeClassifier\n",
      "RidgeClassifierCV\n",
      "SGDClassifier\n",
      "SVC\n"
     ]
    }
   ],
   "source": [
    "estimators = all_estimators(type_filter=\"classifier\")\n",
    "\n",
    "for name, class_ in estimators:\n",
    "    try:\n",
    "        # check if the class has an attribute called class_weight\n",
    "        if hasattr(class_(), \"class_weight\"):\n",
    "            print(name)\n",
    "    except:\n",
    "        pass"
   ]
  },
  {
   "cell_type": "code",
   "execution_count": 5,
   "id": "mathematical-forty",
   "metadata": {
    "ExecuteTime": {
     "end_time": "2021-03-01T14:51:07.075918Z",
     "start_time": "2021-03-01T14:51:06.625046Z"
    }
   },
   "outputs": [],
   "source": [
    "# Import libraries\n",
    "\n",
    "import pandas as pd\n",
    "import numpy as np\n",
    "\n",
    "from sklearn.linear_model import LogisticRegression\n",
    "from sklearn.model_selection import train_test_split\n",
    "from sklearn.metrics import roc_auc_score"
   ]
  },
  {
   "cell_type": "code",
   "execution_count": 6,
   "id": "iraqi-humor",
   "metadata": {
    "ExecuteTime": {
     "end_time": "2021-03-01T14:51:07.665060Z",
     "start_time": "2021-03-01T14:51:07.662387Z"
    }
   },
   "outputs": [],
   "source": [
    "def load_data():\n",
    "    \n",
    "    df = pd.read_csv(\"./kdd2004.csv\")\n",
    "    df[\"target\"] = df[\"target\"].map({-1:0,1:1})\n",
    "    \n",
    "    return df"
   ]
  },
  {
   "cell_type": "code",
   "execution_count": 7,
   "id": "distinct-fever",
   "metadata": {
    "ExecuteTime": {
     "end_time": "2021-03-01T14:51:09.028004Z",
     "start_time": "2021-03-01T14:51:08.227684Z"
    }
   },
   "outputs": [],
   "source": [
    "df = load_data()"
   ]
  },
  {
   "cell_type": "code",
   "execution_count": 8,
   "id": "imperial-warrior",
   "metadata": {
    "ExecuteTime": {
     "end_time": "2021-03-01T14:51:56.981301Z",
     "start_time": "2021-03-01T14:51:56.811592Z"
    }
   },
   "outputs": [],
   "source": [
    "X_train, X_test, y_train, y_test = train_test_split(df.drop(\n",
    "    labels=[\"target\"], axis=1), df[\"target\"], test_size=0.33, random_state=24)"
   ]
  },
  {
   "cell_type": "code",
   "execution_count": 10,
   "id": "finished-appeal",
   "metadata": {
    "ExecuteTime": {
     "end_time": "2021-03-01T14:54:28.116811Z",
     "start_time": "2021-03-01T14:54:28.113280Z"
    }
   },
   "outputs": [],
   "source": [
    "def run_lr(X_train, X_test, y_train, y_test, class_weight):\n",
    "\n",
    "\n",
    "    lr = LogisticRegression(penalty='l2',\n",
    "                            class_weight=class_weight,\n",
    "                            random_state=24,\n",
    "                            solver='newton-cg',\n",
    "                            max_iter=10,\n",
    "                            n_jobs=-1,\n",
    "                            )\n",
    "    lr.fit(X_train,y_train)\n",
    "    \n",
    "    y_pred = lr.predict_proba(X_test)[:,1]\n",
    "    \n",
    "    print(f\"ROC-AUC for the train set: {roc_auc_score(y_train,lr.predict_proba(X_train)[:,1])}\")\n",
    "    print(f\"ROC-AUC for the test set: {roc_auc_score(y_test,y_pred)}\")"
   ]
  },
  {
   "cell_type": "code",
   "execution_count": 11,
   "id": "polar-polyester",
   "metadata": {
    "ExecuteTime": {
     "end_time": "2021-03-01T14:54:56.672676Z",
     "start_time": "2021-03-01T14:54:52.800066Z"
    }
   },
   "outputs": [
    {
     "name": "stdout",
     "output_type": "stream",
     "text": [
      "ROC-AUC for the train set: 0.9751809866633914\n",
      "ROC-AUC for the test set: 0.9667857356132781\n"
     ]
    }
   ],
   "source": [
    "run_lr(X_train, X_test, y_train, y_test,class_weight=\"balanced\")"
   ]
  },
  {
   "cell_type": "code",
   "execution_count": 12,
   "id": "olympic-phoenix",
   "metadata": {
    "ExecuteTime": {
     "end_time": "2021-03-01T14:55:45.903916Z",
     "start_time": "2021-03-01T14:55:42.536978Z"
    }
   },
   "outputs": [
    {
     "name": "stdout",
     "output_type": "stream",
     "text": [
      "ROC-AUC for the train set: 0.9298414285928388\n",
      "ROC-AUC for the test set: 0.9108892048109519\n"
     ]
    }
   ],
   "source": [
    "run_lr(X_train, X_test, y_train, y_test,class_weight=None)"
   ]
  },
  {
   "cell_type": "code",
   "execution_count": 14,
   "id": "organized-frank",
   "metadata": {
    "ExecuteTime": {
     "end_time": "2021-03-01T15:01:02.096199Z",
     "start_time": "2021-03-01T15:00:58.309807Z"
    }
   },
   "outputs": [
    {
     "name": "stdout",
     "output_type": "stream",
     "text": [
      "ROC-AUC for the train set: 0.9473086540392941\n",
      "ROC-AUC for the test set: 0.9301425638772336\n"
     ]
    }
   ],
   "source": [
    "run_lr(X_train, X_test, y_train, y_test,class_weight={0:1,1:10})"
   ]
  },
  {
   "cell_type": "code",
   "execution_count": 15,
   "id": "exciting-providence",
   "metadata": {
    "ExecuteTime": {
     "end_time": "2021-03-01T15:01:12.379224Z",
     "start_time": "2021-03-01T15:01:08.818053Z"
    }
   },
   "outputs": [
    {
     "name": "stdout",
     "output_type": "stream",
     "text": [
      "ROC-AUC for the train set: 0.9769361713077744\n",
      "ROC-AUC for the test set: 0.9694883258922125\n"
     ]
    }
   ],
   "source": [
    "run_lr(X_train, X_test, y_train, y_test,class_weight={0:1,1:100})"
   ]
  },
  {
   "cell_type": "code",
   "execution_count": 16,
   "id": "suffering-lebanon",
   "metadata": {
    "ExecuteTime": {
     "end_time": "2021-03-01T15:01:46.155667Z",
     "start_time": "2021-03-01T15:01:46.152025Z"
    }
   },
   "outputs": [],
   "source": [
    "def run_lr(X_train, X_test, y_train, y_test, sample_weight):\n",
    "\n",
    "\n",
    "    lr = LogisticRegression(penalty='l2',\n",
    "                            random_state=24,\n",
    "                            solver='newton-cg',\n",
    "                            max_iter=10,\n",
    "                            n_jobs=-1,\n",
    "                            )\n",
    "    lr.fit(X_train,y_train,sample_weight=sample_weight)\n",
    "    \n",
    "    y_pred = lr.predict_proba(X_test)[:,1]\n",
    "    \n",
    "    print(f\"ROC-AUC for the train set: {roc_auc_score(y_train,lr.predict_proba(X_train)[:,1])}\")\n",
    "    print(f\"ROC-AUC for the test set: {roc_auc_score(y_test,y_pred)}\")"
   ]
  },
  {
   "cell_type": "code",
   "execution_count": 17,
   "id": "serious-footage",
   "metadata": {
    "ExecuteTime": {
     "end_time": "2021-03-01T15:02:25.564411Z",
     "start_time": "2021-03-01T15:02:22.657930Z"
    }
   },
   "outputs": [
    {
     "name": "stdout",
     "output_type": "stream",
     "text": [
      "ROC-AUC for the train set: 0.9298414285928388\n",
      "ROC-AUC for the test set: 0.9108892048109519\n"
     ]
    }
   ],
   "source": [
    "run_lr(X_train, X_test, y_train, y_test,sample_weight=None)"
   ]
  },
  {
   "cell_type": "code",
   "execution_count": 18,
   "id": "adopted-reconstruction",
   "metadata": {
    "ExecuteTime": {
     "end_time": "2021-03-01T15:03:50.506453Z",
     "start_time": "2021-03-01T15:03:45.991232Z"
    }
   },
   "outputs": [
    {
     "name": "stdout",
     "output_type": "stream",
     "text": [
      "ROC-AUC for the train set: 0.97664019811729\n",
      "ROC-AUC for the test set: 0.9699606071850528\n"
     ]
    }
   ],
   "source": [
    "run_lr(X_train,\n",
    "       X_test,\n",
    "       y_train,\n",
    "       y_test,\n",
    "       sample_weight=np.where(y_train==1,99,1)) #equivalent to {0:1,1:99}"
   ]
  },
  {
   "cell_type": "code",
   "execution_count": 19,
   "id": "occasional-stranger",
   "metadata": {
    "ExecuteTime": {
     "end_time": "2021-03-01T15:05:17.324229Z",
     "start_time": "2021-03-01T15:05:12.870337Z"
    }
   },
   "outputs": [
    {
     "name": "stdout",
     "output_type": "stream",
     "text": [
      "ROC-AUC for the train set: 0.9796471066405542\n",
      "ROC-AUC for the test set: 0.9727835078071077\n"
     ]
    }
   ],
   "source": [
    "run_lr(X_train,\n",
    "       X_test,\n",
    "       y_train,\n",
    "       y_test,\n",
    "       sample_weight=np.where(y_train==1,200,1)) #equivalent to {0:1,1:99}"
   ]
  },
  {
   "cell_type": "markdown",
   "id": "relative-account",
   "metadata": {},
   "source": [
    "## Estimating the Cost with Cross-Validation"
   ]
  },
  {
   "cell_type": "code",
   "execution_count": 20,
   "id": "hollow-fitness",
   "metadata": {
    "ExecuteTime": {
     "end_time": "2021-03-01T15:06:19.965183Z",
     "start_time": "2021-03-01T15:06:19.959515Z"
    }
   },
   "outputs": [],
   "source": [
    "from sklearn.model_selection import GridSearchCV\n",
    "from sklearn.ensemble import RandomForestClassifier"
   ]
  },
  {
   "cell_type": "code",
   "execution_count": 21,
   "id": "valued-husband",
   "metadata": {
    "ExecuteTime": {
     "end_time": "2021-03-01T15:07:43.218196Z",
     "start_time": "2021-03-01T15:07:43.215530Z"
    }
   },
   "outputs": [],
   "source": [
    "rf = RandomForestClassifier(n_estimators=50,\n",
    "                            random_state=24,\n",
    "                            max_depth=2,\n",
    "                            n_jobs=-1,\n",
    "                            class_weight=None\n",
    "                            )"
   ]
  },
  {
   "cell_type": "code",
   "execution_count": 22,
   "id": "introductory-review",
   "metadata": {
    "ExecuteTime": {
     "end_time": "2021-03-01T15:08:48.913028Z",
     "start_time": "2021-03-01T15:08:48.910043Z"
    }
   },
   "outputs": [],
   "source": [
    "param_grid = {\n",
    "    \"n_estimators\": [10, 50, 100],\n",
    "    \"max_depth\": [None, 2, 10],\n",
    "    \"class_weight\": [None, {0: 1, 1: 10}, {0: 1, 1: 100}, {0: 1, 1: 1000}]\n",
    "}"
   ]
  },
  {
   "cell_type": "code",
   "execution_count": 25,
   "id": "forward-commission",
   "metadata": {
    "ExecuteTime": {
     "end_time": "2021-03-01T15:10:44.728590Z",
     "start_time": "2021-03-01T15:10:44.726034Z"
    }
   },
   "outputs": [],
   "source": [
    "grid_search = GridSearchCV(rf,\n",
    "                           param_grid=param_grid,\n",
    "                           scoring=\"roc_auc\",\n",
    "                           cv=2)"
   ]
  },
  {
   "cell_type": "code",
   "execution_count": 26,
   "id": "peripheral-disposition",
   "metadata": {
    "ExecuteTime": {
     "end_time": "2021-03-01T15:12:07.455166Z",
     "start_time": "2021-03-01T15:10:45.420678Z"
    }
   },
   "outputs": [
    {
     "data": {
      "text/plain": [
       "GridSearchCV(cv=2,\n",
       "             estimator=RandomForestClassifier(max_depth=2, n_estimators=50,\n",
       "                                              n_jobs=-1, random_state=24),\n",
       "             param_grid={'class_weight': [None, {0: 1, 1: 10}, {0: 1, 1: 100},\n",
       "                                          {0: 1, 1: 1000}],\n",
       "                         'max_depth': [None, 2, 10],\n",
       "                         'n_estimators': [10, 50, 100]},\n",
       "             scoring='roc_auc')"
      ]
     },
     "execution_count": 26,
     "metadata": {},
     "output_type": "execute_result"
    }
   ],
   "source": [
    "grid_search.fit(X_train,y_train)"
   ]
  },
  {
   "cell_type": "code",
   "execution_count": 27,
   "id": "constant-sterling",
   "metadata": {
    "ExecuteTime": {
     "end_time": "2021-03-01T15:12:07.564146Z",
     "start_time": "2021-03-01T15:12:07.559816Z"
    }
   },
   "outputs": [
    {
     "data": {
      "text/plain": [
       "0.9832796433551112"
      ]
     },
     "execution_count": 27,
     "metadata": {},
     "output_type": "execute_result"
    }
   ],
   "source": [
    "grid_search.best_score_"
   ]
  },
  {
   "cell_type": "code",
   "execution_count": 28,
   "id": "greatest-forge",
   "metadata": {
    "ExecuteTime": {
     "end_time": "2021-03-01T15:12:08.087405Z",
     "start_time": "2021-03-01T15:12:08.083861Z"
    }
   },
   "outputs": [
    {
     "data": {
      "text/plain": [
       "{'class_weight': {0: 1, 1: 100}, 'max_depth': 10, 'n_estimators': 100}"
      ]
     },
     "execution_count": 28,
     "metadata": {},
     "output_type": "execute_result"
    }
   ],
   "source": [
    "grid_search.best_params_"
   ]
  },
  {
   "cell_type": "code",
   "execution_count": 31,
   "id": "broke-transport",
   "metadata": {
    "ExecuteTime": {
     "end_time": "2021-03-01T15:12:16.164143Z",
     "start_time": "2021-03-01T15:12:16.160305Z"
    }
   },
   "outputs": [
    {
     "data": {
      "text/plain": [
       "RandomForestClassifier(class_weight={0: 1, 1: 100}, max_depth=10, n_jobs=-1,\n",
       "                       random_state=24)"
      ]
     },
     "execution_count": 31,
     "metadata": {},
     "output_type": "execute_result"
    }
   ],
   "source": [
    "grid_search.best_estimator_"
   ]
  },
  {
   "cell_type": "code",
   "execution_count": 32,
   "id": "still-pepper",
   "metadata": {
    "ExecuteTime": {
     "end_time": "2021-03-01T15:12:23.404857Z",
     "start_time": "2021-03-01T15:12:23.311959Z"
    }
   },
   "outputs": [
    {
     "data": {
      "text/plain": [
       "0.9911605560675483"
      ]
     },
     "execution_count": 32,
     "metadata": {},
     "output_type": "execute_result"
    }
   ],
   "source": [
    "grid_search.score(X_test,y_test)"
   ]
  },
  {
   "cell_type": "markdown",
   "id": "leading-efficiency",
   "metadata": {},
   "source": [
    "# Bayes Conditional Risk"
   ]
  },
  {
   "cell_type": "markdown",
   "id": "mexican-florist",
   "metadata": {},
   "source": [
    "As a recap, given a cost matrix, an observation should be classified into the class that has the minimum cost.\n",
    "\n",
    "The cost of assigning an observation to a certain class is called expected cost or bayes risk, and we denote it R(i|x).\n",
    "\n",
    "R(i|x) is the expected cost of classifying an observation into class i.\n",
    "P(j|x) is the probability of an observation of being of class j.\n",
    "C(i,j) is the cost of assigning an observation of class j to class i.\n",
    "\n",
    "R(i|x) = sum (P(j|x) * C(i,j)) -> an observation should be classified into the class that has the minimum cost or minimum risk.\n",
    "\n",
    "Example: For observation 1, assuming binary classification, and 1 being the minority class:\n",
    "\n",
    "P(0|1) = 0.8 and P(1|1) = 0.2 --> probability of belonging to class 0 and 1\n",
    "\n",
    "C(1,0) = 1 and C(0,1) = 10 --> Cost of misclassification\n",
    "\n",
    "R(0,1) = P(0,1) * C(0,0) + P(1|1) * C(0,1) = 0.8 * 0 + 0.2 * 10 = 2\n",
    "R(1,1) = P(0,1) * C(1,0) + P(1|1) *  C(1,1) = 0.2 * 1 + 0.8 * 0 = 0.2\n",
    "\n",
    "Therefore the classifier will classify an instance x into positive class if and only if: R(1|x) < = R(0|x) also equal to P(0|x)C(1,0) <= P(1|x)C(0,1) equals to C(1,0) <= P(1|x)C(0,1) + C(1,0).\n",
    "\n",
    "So the threshold of probability above which a classifier can confidently classify an observation as a member of class 1 is:\n",
    "\n",
    "C(1,0) / ((C(0,1) + C(1,0)) <= P(1|x)\n",
    "\n",
    "(1 / (10+1)) <+ P(1|x) in our example above."
   ]
  },
  {
   "cell_type": "markdown",
   "id": "running-enclosure",
   "metadata": {},
   "source": [
    "# Meta Cost"
   ]
  },
  {
   "cell_type": "markdown",
   "id": "verbal-romania",
   "metadata": {},
   "source": [
    "Meta Cost is a procedure to make a cost insensitive algorithm, cost sensitive, and it can be applied to any algorithm and will return whether probabilities or classes. It can be added to a bagging classifier where the prediction is the average probability of majority vote and we add bayes optimal prediction, which means adding the misclassification cost."
   ]
  },
  {
   "cell_type": "code",
   "execution_count": 38,
   "id": "public-upset",
   "metadata": {
    "ExecuteTime": {
     "end_time": "2021-03-01T17:54:19.697894Z",
     "start_time": "2021-03-01T17:54:19.693501Z"
    }
   },
   "outputs": [],
   "source": [
    "from metacost import MetaCost"
   ]
  },
  {
   "cell_type": "code",
   "execution_count": 39,
   "id": "incomplete-omega",
   "metadata": {
    "ExecuteTime": {
     "end_time": "2021-03-01T17:55:07.975670Z",
     "start_time": "2021-03-01T17:55:07.973082Z"
    }
   },
   "outputs": [],
   "source": [
    "lr = LogisticRegression(penalty=\"l2\",\n",
    "                        solver=\"newton-cg\",\n",
    "                        random_state=24,\n",
    "                        max_iter=10,\n",
    "                        n_jobs=-1)"
   ]
  },
  {
   "cell_type": "code",
   "execution_count": 49,
   "id": "fossil-chancellor",
   "metadata": {
    "ExecuteTime": {
     "end_time": "2021-03-01T18:32:25.505539Z",
     "start_time": "2021-03-01T18:32:25.501681Z"
    }
   },
   "outputs": [
    {
     "data": {
      "text/plain": [
       "array([[0, 1],\n",
       "       [1, 0]])"
      ]
     },
     "execution_count": 49,
     "metadata": {},
     "output_type": "execute_result"
    }
   ],
   "source": [
    "#Test with no cost\n",
    "cost_matrix = np.array([[0,1],[1,0]])\n",
    "cost_matrix"
   ]
  },
  {
   "cell_type": "code",
   "execution_count": 41,
   "id": "assisted-equation",
   "metadata": {
    "ExecuteTime": {
     "end_time": "2021-03-01T17:56:15.462407Z",
     "start_time": "2021-03-01T17:56:15.459912Z"
    }
   },
   "outputs": [],
   "source": [
    "metacost_ = MetaCost(estimator=lr,\n",
    "                    cost_matrix = cost_matrix,\n",
    "                    n_estimators=50,\n",
    "                    n_samples=None,\n",
    "                    p=True,\n",
    "                    q=True)"
   ]
  },
  {
   "cell_type": "code",
   "execution_count": 42,
   "id": "hidden-percentage",
   "metadata": {
    "ExecuteTime": {
     "end_time": "2021-03-01T18:05:21.217565Z",
     "start_time": "2021-03-01T17:56:23.799308Z"
    }
   },
   "outputs": [
    {
     "name": "stdout",
     "output_type": "stream",
     "text": [
      "resampling data and training ensemble\n",
      "Finished training ensemble\n",
      "evaluating optimal class per observation\n",
      "Finished re-assigning labels\n",
      "Training model on new data\n",
      "Finished training model on data with new labels\n"
     ]
    }
   ],
   "source": [
    "metacost_.fit(X_train,y_train)"
   ]
  },
  {
   "cell_type": "code",
   "execution_count": 43,
   "id": "textile-visit",
   "metadata": {
    "ExecuteTime": {
     "end_time": "2021-03-01T18:18:17.238991Z",
     "start_time": "2021-03-01T18:18:17.078389Z"
    }
   },
   "outputs": [
    {
     "name": "stdout",
     "output_type": "stream",
     "text": [
      "ROC-AUC for the train set: 0.8993202419552555\n",
      "ROC-AUC for the test set: 0.8834548425250986\n"
     ]
    }
   ],
   "source": [
    "y_pred = metacost_.predict_proba(X_test)[:,1]\n",
    "\n",
    "print(f\"ROC-AUC for the train set: {roc_auc_score(y_train,metacost_.predict_proba(X_train)[:,1])}\")\n",
    "print(f\"ROC-AUC for the test set: {roc_auc_score(y_test,y_pred)}\")"
   ]
  },
  {
   "cell_type": "code",
   "execution_count": 50,
   "id": "architectural-bermuda",
   "metadata": {
    "ExecuteTime": {
     "end_time": "2021-03-01T18:32:36.545675Z",
     "start_time": "2021-03-01T18:32:36.541923Z"
    }
   },
   "outputs": [
    {
     "data": {
      "text/plain": [
       "array([[  0, 100],\n",
       "       [  1,   0]])"
      ]
     },
     "execution_count": 50,
     "metadata": {},
     "output_type": "execute_result"
    }
   ],
   "source": [
    "#Test with cost of 1 for the majority class and 100 for the minority class\n",
    "cost_matrix = np.array([[0,100],[1,0]])\n",
    "cost_matrix"
   ]
  },
  {
   "cell_type": "code",
   "execution_count": 51,
   "id": "serial-fundamental",
   "metadata": {
    "ExecuteTime": {
     "end_time": "2021-03-01T18:32:36.942132Z",
     "start_time": "2021-03-01T18:32:36.939631Z"
    }
   },
   "outputs": [],
   "source": [
    "metacost_ = MetaCost(estimator=lr,\n",
    "                    cost_matrix = cost_matrix,\n",
    "                    n_estimators=50,\n",
    "                    n_samples=None,\n",
    "                    p=True,\n",
    "                    q=True)"
   ]
  },
  {
   "cell_type": "code",
   "execution_count": 52,
   "id": "spiritual-blanket",
   "metadata": {
    "ExecuteTime": {
     "end_time": "2021-03-01T18:41:47.405095Z",
     "start_time": "2021-03-01T18:32:37.325194Z"
    }
   },
   "outputs": [
    {
     "name": "stdout",
     "output_type": "stream",
     "text": [
      "resampling data and training ensemble\n",
      "Finished training ensemble\n",
      "evaluating optimal class per observation\n",
      "Finished re-assigning labels\n",
      "Training model on new data\n",
      "Finished training model on data with new labels\n"
     ]
    }
   ],
   "source": [
    "metacost_.fit(X_train,y_train)"
   ]
  },
  {
   "cell_type": "code",
   "execution_count": 53,
   "id": "postal-practice",
   "metadata": {
    "ExecuteTime": {
     "end_time": "2021-03-01T18:41:47.717674Z",
     "start_time": "2021-03-01T18:41:47.578001Z"
    }
   },
   "outputs": [
    {
     "name": "stdout",
     "output_type": "stream",
     "text": [
      "ROC-AUC for the train set: 0.934969494024405\n",
      "ROC-AUC for the test set: 0.915486776849617\n"
     ]
    }
   ],
   "source": [
    "y_pred = metacost_.predict_proba(X_test)[:,1]\n",
    "\n",
    "print(f\"ROC-AUC for the train set: {roc_auc_score(y_train,metacost_.predict_proba(X_train)[:,1])}\")\n",
    "print(f\"ROC-AUC for the test set: {roc_auc_score(y_test,y_pred)}\")"
   ]
  },
  {
   "cell_type": "markdown",
   "id": "bound-cleaning",
   "metadata": {},
   "source": [
    "We can notice an increase in the performance!"
   ]
  }
 ],
 "metadata": {
  "hide_input": false,
  "kernelspec": {
   "display_name": "Python 3",
   "language": "python",
   "name": "python3"
  },
  "language_info": {
   "codemirror_mode": {
    "name": "ipython",
    "version": 3
   },
   "file_extension": ".py",
   "mimetype": "text/x-python",
   "name": "python",
   "nbconvert_exporter": "python",
   "pygments_lexer": "ipython3",
   "version": "3.8.5"
  },
  "toc": {
   "base_numbering": 1,
   "nav_menu": {},
   "number_sections": true,
   "sideBar": true,
   "skip_h1_title": false,
   "title_cell": "Table of Contents",
   "title_sidebar": "Contents",
   "toc_cell": false,
   "toc_position": {},
   "toc_section_display": true,
   "toc_window_display": false
  },
  "varInspector": {
   "cols": {
    "lenName": 16,
    "lenType": 16,
    "lenVar": 40
   },
   "kernels_config": {
    "python": {
     "delete_cmd_postfix": "",
     "delete_cmd_prefix": "del ",
     "library": "var_list.py",
     "varRefreshCmd": "print(var_dic_list())"
    },
    "r": {
     "delete_cmd_postfix": ") ",
     "delete_cmd_prefix": "rm(",
     "library": "var_list.r",
     "varRefreshCmd": "cat(var_dic_list()) "
    }
   },
   "types_to_exclude": [
    "module",
    "function",
    "builtin_function_or_method",
    "instance",
    "_Feature"
   ],
   "window_display": false
  }
 },
 "nbformat": 4,
 "nbformat_minor": 5
}
